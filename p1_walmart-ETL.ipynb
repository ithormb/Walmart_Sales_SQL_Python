{
 "cells": [
  {
   "cell_type": "markdown",
   "metadata": {},
   "source": [
    "### Step 0 - Install Kaggle API"
   ]
  },
  {
   "cell_type": "markdown",
   "metadata": {},
   "source": []
  },
  {
   "cell_type": "code",
   "execution_count": 5,
   "metadata": {},
   "outputs": [
    {
     "name": "stderr",
     "output_type": "stream",
     "text": [
      "\n",
      "[notice] A new release of pip is available: 23.1.2 -> 25.0.1\n",
      "[notice] To update, run: python.exe -m pip install --upgrade pip\n"
     ]
    }
   ],
   "source": [
    "!pip install -q kaggle"
   ]
  },
  {
   "cell_type": "code",
   "execution_count": 1,
   "metadata": {},
   "outputs": [],
   "source": [
    "import kaggle"
   ]
  },
  {
   "cell_type": "code",
   "execution_count": 2,
   "metadata": {},
   "outputs": [],
   "source": [
    "from kaggle.api.kaggle_api_extended import KaggleApi"
   ]
  },
  {
   "cell_type": "code",
   "execution_count": 3,
   "metadata": {},
   "outputs": [],
   "source": [
    "api = KaggleApi()\n",
    "api.authenticate()"
   ]
  },
  {
   "cell_type": "code",
   "execution_count": 4,
   "metadata": {},
   "outputs": [
    {
     "name": "stdout",
     "output_type": "stream",
     "text": [
      "Dataset URL: https://www.kaggle.com/datasets/najir0123/walmart-10k-sales-datasets\n"
     ]
    },
    {
     "data": {
      "text/plain": [
       "False"
      ]
     },
     "execution_count": 4,
     "metadata": {},
     "output_type": "execute_result"
    }
   ],
   "source": [
    "api.dataset_download_file ('najir0123/walmart-10k-sales-datasets',\n",
    "                            file_name= 'Walmart.csv')"
   ]
  },
  {
   "cell_type": "markdown",
   "metadata": {},
   "source": []
  },
  {
   "cell_type": "markdown",
   "metadata": {},
   "source": [
    "### Step 1  - Data Exploration & Leading"
   ]
  },
  {
   "cell_type": "code",
   "execution_count": 2,
   "metadata": {},
   "outputs": [
    {
     "name": "stdout",
     "output_type": "stream",
     "text": [
      "Requirement already satisfied: pandas in c:\\users\\thomas barbosa\\desktop\\projetos\\p1 - walmart sales data analysis\\my_env1\\lib\\site-packages (2.2.3)\n",
      "Requirement already satisfied: numpy>=1.23.2 in c:\\users\\thomas barbosa\\desktop\\projetos\\p1 - walmart sales data analysis\\my_env1\\lib\\site-packages (from pandas) (2.2.3)\n",
      "Requirement already satisfied: python-dateutil>=2.8.2 in c:\\users\\thomas barbosa\\desktop\\projetos\\p1 - walmart sales data analysis\\my_env1\\lib\\site-packages (from pandas) (2.9.0.post0)\n",
      "Requirement already satisfied: pytz>=2020.1 in c:\\users\\thomas barbosa\\desktop\\projetos\\p1 - walmart sales data analysis\\my_env1\\lib\\site-packages (from pandas) (2025.1)\n",
      "Requirement already satisfied: tzdata>=2022.7 in c:\\users\\thomas barbosa\\desktop\\projetos\\p1 - walmart sales data analysis\\my_env1\\lib\\site-packages (from pandas) (2025.1)\n",
      "Requirement already satisfied: six>=1.5 in c:\\users\\thomas barbosa\\desktop\\projetos\\p1 - walmart sales data analysis\\my_env1\\lib\\site-packages (from python-dateutil>=2.8.2->pandas) (1.17.0)\n"
     ]
    },
    {
     "name": "stderr",
     "output_type": "stream",
     "text": [
      "\n",
      "[notice] A new release of pip is available: 23.1.2 -> 25.0.1\n",
      "[notice] To update, run: python.exe -m pip install --upgrade pip\n"
     ]
    },
    {
     "name": "stdout",
     "output_type": "stream",
     "text": [
      "Requirement already satisfied: matplotlib in c:\\users\\thomas barbosa\\desktop\\projetos\\p1 - walmart sales data analysis\\my_env1\\lib\\site-packages (3.10.1)\n",
      "Requirement already satisfied: contourpy>=1.0.1 in c:\\users\\thomas barbosa\\desktop\\projetos\\p1 - walmart sales data analysis\\my_env1\\lib\\site-packages (from matplotlib) (1.3.1)\n",
      "Requirement already satisfied: cycler>=0.10 in c:\\users\\thomas barbosa\\desktop\\projetos\\p1 - walmart sales data analysis\\my_env1\\lib\\site-packages (from matplotlib) (0.12.1)\n",
      "Requirement already satisfied: fonttools>=4.22.0 in c:\\users\\thomas barbosa\\desktop\\projetos\\p1 - walmart sales data analysis\\my_env1\\lib\\site-packages (from matplotlib) (4.56.0)\n",
      "Requirement already satisfied: kiwisolver>=1.3.1 in c:\\users\\thomas barbosa\\desktop\\projetos\\p1 - walmart sales data analysis\\my_env1\\lib\\site-packages (from matplotlib) (1.4.8)\n",
      "Requirement already satisfied: numpy>=1.23 in c:\\users\\thomas barbosa\\desktop\\projetos\\p1 - walmart sales data analysis\\my_env1\\lib\\site-packages (from matplotlib) (2.2.3)\n",
      "Requirement already satisfied: packaging>=20.0 in c:\\users\\thomas barbosa\\desktop\\projetos\\p1 - walmart sales data analysis\\my_env1\\lib\\site-packages (from matplotlib) (24.2)\n",
      "Requirement already satisfied: pillow>=8 in c:\\users\\thomas barbosa\\desktop\\projetos\\p1 - walmart sales data analysis\\my_env1\\lib\\site-packages (from matplotlib) (11.1.0)\n",
      "Requirement already satisfied: pyparsing>=2.3.1 in c:\\users\\thomas barbosa\\desktop\\projetos\\p1 - walmart sales data analysis\\my_env1\\lib\\site-packages (from matplotlib) (3.2.1)\n",
      "Requirement already satisfied: python-dateutil>=2.7 in c:\\users\\thomas barbosa\\desktop\\projetos\\p1 - walmart sales data analysis\\my_env1\\lib\\site-packages (from matplotlib) (2.9.0.post0)\n",
      "Requirement already satisfied: six>=1.5 in c:\\users\\thomas barbosa\\desktop\\projetos\\p1 - walmart sales data analysis\\my_env1\\lib\\site-packages (from python-dateutil>=2.7->matplotlib) (1.17.0)\n"
     ]
    },
    {
     "name": "stderr",
     "output_type": "stream",
     "text": [
      "\n",
      "[notice] A new release of pip is available: 23.1.2 -> 25.0.1\n",
      "[notice] To update, run: python.exe -m pip install --upgrade pip\n",
      "\n",
      "[notice] A new release of pip is available: 23.1.2 -> 25.0.1\n",
      "[notice] To update, run: python.exe -m pip install --upgrade pip\n"
     ]
    },
    {
     "name": "stdout",
     "output_type": "stream",
     "text": [
      "Requirement already satisfied: seaborn in c:\\users\\thomas barbosa\\desktop\\projetos\\p1 - walmart sales data analysis\\my_env1\\lib\\site-packages (0.13.2)\n",
      "Requirement already satisfied: numpy!=1.24.0,>=1.20 in c:\\users\\thomas barbosa\\desktop\\projetos\\p1 - walmart sales data analysis\\my_env1\\lib\\site-packages (from seaborn) (2.2.3)\n",
      "Requirement already satisfied: pandas>=1.2 in c:\\users\\thomas barbosa\\desktop\\projetos\\p1 - walmart sales data analysis\\my_env1\\lib\\site-packages (from seaborn) (2.2.3)\n",
      "Requirement already satisfied: matplotlib!=3.6.1,>=3.4 in c:\\users\\thomas barbosa\\desktop\\projetos\\p1 - walmart sales data analysis\\my_env1\\lib\\site-packages (from seaborn) (3.10.1)\n",
      "Requirement already satisfied: contourpy>=1.0.1 in c:\\users\\thomas barbosa\\desktop\\projetos\\p1 - walmart sales data analysis\\my_env1\\lib\\site-packages (from matplotlib!=3.6.1,>=3.4->seaborn) (1.3.1)\n",
      "Requirement already satisfied: cycler>=0.10 in c:\\users\\thomas barbosa\\desktop\\projetos\\p1 - walmart sales data analysis\\my_env1\\lib\\site-packages (from matplotlib!=3.6.1,>=3.4->seaborn) (0.12.1)\n",
      "Requirement already satisfied: fonttools>=4.22.0 in c:\\users\\thomas barbosa\\desktop\\projetos\\p1 - walmart sales data analysis\\my_env1\\lib\\site-packages (from matplotlib!=3.6.1,>=3.4->seaborn) (4.56.0)\n",
      "Requirement already satisfied: kiwisolver>=1.3.1 in c:\\users\\thomas barbosa\\desktop\\projetos\\p1 - walmart sales data analysis\\my_env1\\lib\\site-packages (from matplotlib!=3.6.1,>=3.4->seaborn) (1.4.8)\n",
      "Requirement already satisfied: packaging>=20.0 in c:\\users\\thomas barbosa\\desktop\\projetos\\p1 - walmart sales data analysis\\my_env1\\lib\\site-packages (from matplotlib!=3.6.1,>=3.4->seaborn) (24.2)\n",
      "Requirement already satisfied: pillow>=8 in c:\\users\\thomas barbosa\\desktop\\projetos\\p1 - walmart sales data analysis\\my_env1\\lib\\site-packages (from matplotlib!=3.6.1,>=3.4->seaborn) (11.1.0)\n",
      "Requirement already satisfied: pyparsing>=2.3.1 in c:\\users\\thomas barbosa\\desktop\\projetos\\p1 - walmart sales data analysis\\my_env1\\lib\\site-packages (from matplotlib!=3.6.1,>=3.4->seaborn) (3.2.1)\n",
      "Requirement already satisfied: python-dateutil>=2.7 in c:\\users\\thomas barbosa\\desktop\\projetos\\p1 - walmart sales data analysis\\my_env1\\lib\\site-packages (from matplotlib!=3.6.1,>=3.4->seaborn) (2.9.0.post0)\n",
      "Requirement already satisfied: pytz>=2020.1 in c:\\users\\thomas barbosa\\desktop\\projetos\\p1 - walmart sales data analysis\\my_env1\\lib\\site-packages (from pandas>=1.2->seaborn) (2025.1)\n",
      "Requirement already satisfied: tzdata>=2022.7 in c:\\users\\thomas barbosa\\desktop\\projetos\\p1 - walmart sales data analysis\\my_env1\\lib\\site-packages (from pandas>=1.2->seaborn) (2025.1)\n",
      "Requirement already satisfied: six>=1.5 in c:\\users\\thomas barbosa\\desktop\\projetos\\p1 - walmart sales data analysis\\my_env1\\lib\\site-packages (from python-dateutil>=2.7->matplotlib!=3.6.1,>=3.4->seaborn) (1.17.0)\n"
     ]
    },
    {
     "name": "stderr",
     "output_type": "stream",
     "text": [
      "ERROR: Invalid requirement: '#Biblioteca'\n",
      "\n",
      "[notice] A new release of pip is available: 23.1.2 -> 25.0.1\n",
      "[notice] To update, run: python.exe -m pip install --upgrade pip\n",
      "ERROR: Invalid requirement: '#this'\n",
      "\n",
      "[notice] A new release of pip is available: 23.1.2 -> 25.0.1\n",
      "[notice] To update, run: python.exe -m pip install --upgrade pip\n"
     ]
    }
   ],
   "source": [
    "!pip install pandas\n",
    "!pip install matplotlib\n",
    "!pip install seaborn\n",
    "import pandas as pd\n",
    "\n",
    "#mysql toolkit\n",
    "!pip install mysqlclient #Biblioteca do mysql\n",
    "!pip install pymysql #this will work as adapter\n",
    "#from sqlalchemy import create_engine\n"
   ]
  },
  {
   "cell_type": "code",
   "execution_count": 7,
   "metadata": {},
   "outputs": [],
   "source": [
    "df = pd.read_csv('Walmart.csv')"
   ]
  },
  {
   "cell_type": "code",
   "execution_count": 8,
   "metadata": {},
   "outputs": [
    {
     "data": {
      "text/plain": [
       "(10051, 11)"
      ]
     },
     "execution_count": 8,
     "metadata": {},
     "output_type": "execute_result"
    }
   ],
   "source": [
    "df.shape"
   ]
  },
  {
   "cell_type": "code",
   "execution_count": 9,
   "metadata": {},
   "outputs": [
    {
     "data": {
      "application/vnd.microsoft.datawrangler.viewer.v0+json": {
       "columns": [
        {
         "name": "index",
         "rawType": "int64",
         "type": "integer"
        },
        {
         "name": "invoice_id",
         "rawType": "int64",
         "type": "integer"
        },
        {
         "name": "Branch",
         "rawType": "object",
         "type": "string"
        },
        {
         "name": "City",
         "rawType": "object",
         "type": "string"
        },
        {
         "name": "category",
         "rawType": "object",
         "type": "string"
        },
        {
         "name": "unit_price",
         "rawType": "object",
         "type": "string"
        },
        {
         "name": "quantity",
         "rawType": "float64",
         "type": "float"
        },
        {
         "name": "date",
         "rawType": "object",
         "type": "string"
        },
        {
         "name": "time",
         "rawType": "object",
         "type": "string"
        },
        {
         "name": "payment_method",
         "rawType": "object",
         "type": "string"
        },
        {
         "name": "rating",
         "rawType": "float64",
         "type": "float"
        },
        {
         "name": "profit_margin",
         "rawType": "float64",
         "type": "float"
        }
       ],
       "conversionMethod": "pd.DataFrame",
       "ref": "2b55f5b0-059e-458f-897f-33092bfecd17",
       "rows": [
        [
         "0",
         "1",
         "WALM003",
         "San Antonio",
         "Health and beauty",
         "$74.69",
         "7.0",
         "05/01/19",
         "13:08:00",
         "Ewallet",
         "9.1",
         "0.48"
        ],
        [
         "1",
         "2",
         "WALM048",
         "Harlingen",
         "Electronic accessories",
         "$15.28",
         "5.0",
         "08/03/19",
         "10:29:00",
         "Cash",
         "9.6",
         "0.48"
        ],
        [
         "2",
         "3",
         "WALM067",
         "Haltom City",
         "Home and lifestyle",
         "$46.33",
         "7.0",
         "03/03/19",
         "13:23:00",
         "Credit card",
         "7.4",
         "0.33"
        ],
        [
         "3",
         "4",
         "WALM064",
         "Bedford",
         "Health and beauty",
         "$58.22",
         "8.0",
         "27/01/19",
         "20:33:00",
         "Ewallet",
         "8.4",
         "0.33"
        ],
        [
         "4",
         "5",
         "WALM013",
         "Irving",
         "Sports and travel",
         "$86.31",
         "7.0",
         "08/02/19",
         "10:37:00",
         "Ewallet",
         "5.3",
         "0.48"
        ]
       ],
       "shape": {
        "columns": 11,
        "rows": 5
       }
      },
      "text/html": [
       "<div>\n",
       "<style scoped>\n",
       "    .dataframe tbody tr th:only-of-type {\n",
       "        vertical-align: middle;\n",
       "    }\n",
       "\n",
       "    .dataframe tbody tr th {\n",
       "        vertical-align: top;\n",
       "    }\n",
       "\n",
       "    .dataframe thead th {\n",
       "        text-align: right;\n",
       "    }\n",
       "</style>\n",
       "<table border=\"1\" class=\"dataframe\">\n",
       "  <thead>\n",
       "    <tr style=\"text-align: right;\">\n",
       "      <th></th>\n",
       "      <th>invoice_id</th>\n",
       "      <th>Branch</th>\n",
       "      <th>City</th>\n",
       "      <th>category</th>\n",
       "      <th>unit_price</th>\n",
       "      <th>quantity</th>\n",
       "      <th>date</th>\n",
       "      <th>time</th>\n",
       "      <th>payment_method</th>\n",
       "      <th>rating</th>\n",
       "      <th>profit_margin</th>\n",
       "    </tr>\n",
       "  </thead>\n",
       "  <tbody>\n",
       "    <tr>\n",
       "      <th>0</th>\n",
       "      <td>1</td>\n",
       "      <td>WALM003</td>\n",
       "      <td>San Antonio</td>\n",
       "      <td>Health and beauty</td>\n",
       "      <td>$74.69</td>\n",
       "      <td>7.0</td>\n",
       "      <td>05/01/19</td>\n",
       "      <td>13:08:00</td>\n",
       "      <td>Ewallet</td>\n",
       "      <td>9.1</td>\n",
       "      <td>0.48</td>\n",
       "    </tr>\n",
       "    <tr>\n",
       "      <th>1</th>\n",
       "      <td>2</td>\n",
       "      <td>WALM048</td>\n",
       "      <td>Harlingen</td>\n",
       "      <td>Electronic accessories</td>\n",
       "      <td>$15.28</td>\n",
       "      <td>5.0</td>\n",
       "      <td>08/03/19</td>\n",
       "      <td>10:29:00</td>\n",
       "      <td>Cash</td>\n",
       "      <td>9.6</td>\n",
       "      <td>0.48</td>\n",
       "    </tr>\n",
       "    <tr>\n",
       "      <th>2</th>\n",
       "      <td>3</td>\n",
       "      <td>WALM067</td>\n",
       "      <td>Haltom City</td>\n",
       "      <td>Home and lifestyle</td>\n",
       "      <td>$46.33</td>\n",
       "      <td>7.0</td>\n",
       "      <td>03/03/19</td>\n",
       "      <td>13:23:00</td>\n",
       "      <td>Credit card</td>\n",
       "      <td>7.4</td>\n",
       "      <td>0.33</td>\n",
       "    </tr>\n",
       "    <tr>\n",
       "      <th>3</th>\n",
       "      <td>4</td>\n",
       "      <td>WALM064</td>\n",
       "      <td>Bedford</td>\n",
       "      <td>Health and beauty</td>\n",
       "      <td>$58.22</td>\n",
       "      <td>8.0</td>\n",
       "      <td>27/01/19</td>\n",
       "      <td>20:33:00</td>\n",
       "      <td>Ewallet</td>\n",
       "      <td>8.4</td>\n",
       "      <td>0.33</td>\n",
       "    </tr>\n",
       "    <tr>\n",
       "      <th>4</th>\n",
       "      <td>5</td>\n",
       "      <td>WALM013</td>\n",
       "      <td>Irving</td>\n",
       "      <td>Sports and travel</td>\n",
       "      <td>$86.31</td>\n",
       "      <td>7.0</td>\n",
       "      <td>08/02/19</td>\n",
       "      <td>10:37:00</td>\n",
       "      <td>Ewallet</td>\n",
       "      <td>5.3</td>\n",
       "      <td>0.48</td>\n",
       "    </tr>\n",
       "  </tbody>\n",
       "</table>\n",
       "</div>"
      ],
      "text/plain": [
       "   invoice_id   Branch         City                category unit_price  \\\n",
       "0           1  WALM003  San Antonio       Health and beauty     $74.69   \n",
       "1           2  WALM048    Harlingen  Electronic accessories     $15.28   \n",
       "2           3  WALM067  Haltom City      Home and lifestyle     $46.33   \n",
       "3           4  WALM064      Bedford       Health and beauty     $58.22   \n",
       "4           5  WALM013       Irving       Sports and travel     $86.31   \n",
       "\n",
       "   quantity      date      time payment_method  rating  profit_margin  \n",
       "0       7.0  05/01/19  13:08:00        Ewallet     9.1           0.48  \n",
       "1       5.0  08/03/19  10:29:00           Cash     9.6           0.48  \n",
       "2       7.0  03/03/19  13:23:00    Credit card     7.4           0.33  \n",
       "3       8.0  27/01/19  20:33:00        Ewallet     8.4           0.33  \n",
       "4       7.0  08/02/19  10:37:00        Ewallet     5.3           0.48  "
      ]
     },
     "execution_count": 9,
     "metadata": {},
     "output_type": "execute_result"
    }
   ],
   "source": [
    "df.head()"
   ]
  },
  {
   "cell_type": "code",
   "execution_count": 10,
   "metadata": {},
   "outputs": [
    {
     "data": {
      "application/vnd.microsoft.datawrangler.viewer.v0+json": {
       "columns": [
        {
         "name": "index",
         "rawType": "object",
         "type": "string"
        },
        {
         "name": "invoice_id",
         "rawType": "float64",
         "type": "float"
        },
        {
         "name": "quantity",
         "rawType": "float64",
         "type": "float"
        },
        {
         "name": "rating",
         "rawType": "float64",
         "type": "float"
        },
        {
         "name": "profit_margin",
         "rawType": "float64",
         "type": "float"
        }
       ],
       "conversionMethod": "pd.DataFrame",
       "ref": "664e0d64-8e0c-4061-b7db-ed197b5d5b8f",
       "rows": [
        [
         "count",
         "10051.0",
         "10020.0",
         "10051.0",
         "10051.0"
        ],
        [
         "mean",
         "5025.741219779126",
         "2.353493013972056",
         "5.825659138394189",
         "0.3937906675952642"
        ],
        [
         "std",
         "2901.174372404352",
         "1.60265797989157",
         "1.7639906281327329",
         "0.0906689213016896"
        ],
        [
         "min",
         "1.0",
         "1.0",
         "3.0",
         "0.18"
        ],
        [
         "25%",
         "2513.5",
         "1.0",
         "4.0",
         "0.33"
        ],
        [
         "50%",
         "5026.0",
         "2.0",
         "6.0",
         "0.33"
        ],
        [
         "75%",
         "7538.5",
         "3.0",
         "7.0",
         "0.48"
        ],
        [
         "max",
         "10000.0",
         "10.0",
         "10.0",
         "0.57"
        ]
       ],
       "shape": {
        "columns": 4,
        "rows": 8
       }
      },
      "text/html": [
       "<div>\n",
       "<style scoped>\n",
       "    .dataframe tbody tr th:only-of-type {\n",
       "        vertical-align: middle;\n",
       "    }\n",
       "\n",
       "    .dataframe tbody tr th {\n",
       "        vertical-align: top;\n",
       "    }\n",
       "\n",
       "    .dataframe thead th {\n",
       "        text-align: right;\n",
       "    }\n",
       "</style>\n",
       "<table border=\"1\" class=\"dataframe\">\n",
       "  <thead>\n",
       "    <tr style=\"text-align: right;\">\n",
       "      <th></th>\n",
       "      <th>invoice_id</th>\n",
       "      <th>quantity</th>\n",
       "      <th>rating</th>\n",
       "      <th>profit_margin</th>\n",
       "    </tr>\n",
       "  </thead>\n",
       "  <tbody>\n",
       "    <tr>\n",
       "      <th>count</th>\n",
       "      <td>10051.000000</td>\n",
       "      <td>10020.000000</td>\n",
       "      <td>10051.000000</td>\n",
       "      <td>10051.000000</td>\n",
       "    </tr>\n",
       "    <tr>\n",
       "      <th>mean</th>\n",
       "      <td>5025.741220</td>\n",
       "      <td>2.353493</td>\n",
       "      <td>5.825659</td>\n",
       "      <td>0.393791</td>\n",
       "    </tr>\n",
       "    <tr>\n",
       "      <th>std</th>\n",
       "      <td>2901.174372</td>\n",
       "      <td>1.602658</td>\n",
       "      <td>1.763991</td>\n",
       "      <td>0.090669</td>\n",
       "    </tr>\n",
       "    <tr>\n",
       "      <th>min</th>\n",
       "      <td>1.000000</td>\n",
       "      <td>1.000000</td>\n",
       "      <td>3.000000</td>\n",
       "      <td>0.180000</td>\n",
       "    </tr>\n",
       "    <tr>\n",
       "      <th>25%</th>\n",
       "      <td>2513.500000</td>\n",
       "      <td>1.000000</td>\n",
       "      <td>4.000000</td>\n",
       "      <td>0.330000</td>\n",
       "    </tr>\n",
       "    <tr>\n",
       "      <th>50%</th>\n",
       "      <td>5026.000000</td>\n",
       "      <td>2.000000</td>\n",
       "      <td>6.000000</td>\n",
       "      <td>0.330000</td>\n",
       "    </tr>\n",
       "    <tr>\n",
       "      <th>75%</th>\n",
       "      <td>7538.500000</td>\n",
       "      <td>3.000000</td>\n",
       "      <td>7.000000</td>\n",
       "      <td>0.480000</td>\n",
       "    </tr>\n",
       "    <tr>\n",
       "      <th>max</th>\n",
       "      <td>10000.000000</td>\n",
       "      <td>10.000000</td>\n",
       "      <td>10.000000</td>\n",
       "      <td>0.570000</td>\n",
       "    </tr>\n",
       "  </tbody>\n",
       "</table>\n",
       "</div>"
      ],
      "text/plain": [
       "         invoice_id      quantity        rating  profit_margin\n",
       "count  10051.000000  10020.000000  10051.000000   10051.000000\n",
       "mean    5025.741220      2.353493      5.825659       0.393791\n",
       "std     2901.174372      1.602658      1.763991       0.090669\n",
       "min        1.000000      1.000000      3.000000       0.180000\n",
       "25%     2513.500000      1.000000      4.000000       0.330000\n",
       "50%     5026.000000      2.000000      6.000000       0.330000\n",
       "75%     7538.500000      3.000000      7.000000       0.480000\n",
       "max    10000.000000     10.000000     10.000000       0.570000"
      ]
     },
     "execution_count": 10,
     "metadata": {},
     "output_type": "execute_result"
    }
   ],
   "source": [
    "df.describe()"
   ]
  },
  {
   "cell_type": "code",
   "execution_count": 11,
   "metadata": {},
   "outputs": [
    {
     "name": "stdout",
     "output_type": "stream",
     "text": [
      "<class 'pandas.core.frame.DataFrame'>\n",
      "RangeIndex: 10051 entries, 0 to 10050\n",
      "Data columns (total 11 columns):\n",
      " #   Column          Non-Null Count  Dtype  \n",
      "---  ------          --------------  -----  \n",
      " 0   invoice_id      10051 non-null  int64  \n",
      " 1   Branch          10051 non-null  object \n",
      " 2   City            10051 non-null  object \n",
      " 3   category        10051 non-null  object \n",
      " 4   unit_price      10020 non-null  object \n",
      " 5   quantity        10020 non-null  float64\n",
      " 6   date            10051 non-null  object \n",
      " 7   time            10051 non-null  object \n",
      " 8   payment_method  10051 non-null  object \n",
      " 9   rating          10051 non-null  float64\n",
      " 10  profit_margin   10051 non-null  float64\n",
      "dtypes: float64(3), int64(1), object(7)\n",
      "memory usage: 863.9+ KB\n"
     ]
    }
   ],
   "source": [
    "df.info()"
   ]
  },
  {
   "cell_type": "code",
   "execution_count": 12,
   "metadata": {},
   "outputs": [
    {
     "data": {
      "text/plain": [
       "np.int64(51)"
      ]
     },
     "execution_count": 12,
     "metadata": {},
     "output_type": "execute_result"
    }
   ],
   "source": [
    "#Analisando as linhas duplicadas\n",
    "df.duplicated().sum()"
   ]
  },
  {
   "cell_type": "code",
   "execution_count": 13,
   "metadata": {},
   "outputs": [
    {
     "data": {
      "text/plain": [
       "invoice_id         0\n",
       "Branch             0\n",
       "City               0\n",
       "category           0\n",
       "unit_price        31\n",
       "quantity          31\n",
       "date               0\n",
       "time               0\n",
       "payment_method     0\n",
       "rating             0\n",
       "profit_margin      0\n",
       "dtype: int64"
      ]
     },
     "execution_count": 13,
     "metadata": {},
     "output_type": "execute_result"
    }
   ],
   "source": [
    "df.isnull().sum()"
   ]
  },
  {
   "cell_type": "code",
   "execution_count": 14,
   "metadata": {},
   "outputs": [],
   "source": [
    "#Removendo linhas duplicadas\n",
    "df.drop_duplicates(inplace=True)\n",
    "\n",
    "#Removendo linhas vazias\n",
    "df.dropna(inplace=True)"
   ]
  },
  {
   "cell_type": "code",
   "execution_count": 15,
   "metadata": {},
   "outputs": [
    {
     "data": {
      "text/plain": [
       "invoice_id        0\n",
       "Branch            0\n",
       "City              0\n",
       "category          0\n",
       "unit_price        0\n",
       "quantity          0\n",
       "date              0\n",
       "time              0\n",
       "payment_method    0\n",
       "rating            0\n",
       "profit_margin     0\n",
       "dtype: int64"
      ]
     },
     "execution_count": 15,
     "metadata": {},
     "output_type": "execute_result"
    }
   ],
   "source": [
    "df.isnull().sum()"
   ]
  },
  {
   "cell_type": "code",
   "execution_count": 16,
   "metadata": {},
   "outputs": [],
   "source": [
    "#Tratando a coluna 'Unit_price'\n",
    "#Susbstituindo o \"$\" por espaço\n",
    "df['unit_price'] = df['unit_price'].str.replace('$','').astype(float)"
   ]
  },
  {
   "cell_type": "code",
   "execution_count": 17,
   "metadata": {},
   "outputs": [
    {
     "data": {
      "application/vnd.microsoft.datawrangler.viewer.v0+json": {
       "columns": [
        {
         "name": "index",
         "rawType": "int64",
         "type": "integer"
        },
        {
         "name": "invoice_id",
         "rawType": "int64",
         "type": "integer"
        },
        {
         "name": "Branch",
         "rawType": "object",
         "type": "string"
        },
        {
         "name": "City",
         "rawType": "object",
         "type": "string"
        },
        {
         "name": "category",
         "rawType": "object",
         "type": "string"
        },
        {
         "name": "unit_price",
         "rawType": "float64",
         "type": "float"
        },
        {
         "name": "quantity",
         "rawType": "float64",
         "type": "float"
        },
        {
         "name": "date",
         "rawType": "object",
         "type": "string"
        },
        {
         "name": "time",
         "rawType": "object",
         "type": "string"
        },
        {
         "name": "payment_method",
         "rawType": "object",
         "type": "string"
        },
        {
         "name": "rating",
         "rawType": "float64",
         "type": "float"
        },
        {
         "name": "profit_margin",
         "rawType": "float64",
         "type": "float"
        }
       ],
       "conversionMethod": "pd.DataFrame",
       "ref": "72cff3da-1f1d-4337-9594-332c0c6d6f9f",
       "rows": [
        [
         "0",
         "1",
         "WALM003",
         "San Antonio",
         "Health and beauty",
         "74.69",
         "7.0",
         "05/01/19",
         "13:08:00",
         "Ewallet",
         "9.1",
         "0.48"
        ],
        [
         "1",
         "2",
         "WALM048",
         "Harlingen",
         "Electronic accessories",
         "15.28",
         "5.0",
         "08/03/19",
         "10:29:00",
         "Cash",
         "9.6",
         "0.48"
        ],
        [
         "2",
         "3",
         "WALM067",
         "Haltom City",
         "Home and lifestyle",
         "46.33",
         "7.0",
         "03/03/19",
         "13:23:00",
         "Credit card",
         "7.4",
         "0.33"
        ],
        [
         "3",
         "4",
         "WALM064",
         "Bedford",
         "Health and beauty",
         "58.22",
         "8.0",
         "27/01/19",
         "20:33:00",
         "Ewallet",
         "8.4",
         "0.33"
        ],
        [
         "4",
         "5",
         "WALM013",
         "Irving",
         "Sports and travel",
         "86.31",
         "7.0",
         "08/02/19",
         "10:37:00",
         "Ewallet",
         "5.3",
         "0.48"
        ]
       ],
       "shape": {
        "columns": 11,
        "rows": 5
       }
      },
      "text/html": [
       "<div>\n",
       "<style scoped>\n",
       "    .dataframe tbody tr th:only-of-type {\n",
       "        vertical-align: middle;\n",
       "    }\n",
       "\n",
       "    .dataframe tbody tr th {\n",
       "        vertical-align: top;\n",
       "    }\n",
       "\n",
       "    .dataframe thead th {\n",
       "        text-align: right;\n",
       "    }\n",
       "</style>\n",
       "<table border=\"1\" class=\"dataframe\">\n",
       "  <thead>\n",
       "    <tr style=\"text-align: right;\">\n",
       "      <th></th>\n",
       "      <th>invoice_id</th>\n",
       "      <th>Branch</th>\n",
       "      <th>City</th>\n",
       "      <th>category</th>\n",
       "      <th>unit_price</th>\n",
       "      <th>quantity</th>\n",
       "      <th>date</th>\n",
       "      <th>time</th>\n",
       "      <th>payment_method</th>\n",
       "      <th>rating</th>\n",
       "      <th>profit_margin</th>\n",
       "    </tr>\n",
       "  </thead>\n",
       "  <tbody>\n",
       "    <tr>\n",
       "      <th>0</th>\n",
       "      <td>1</td>\n",
       "      <td>WALM003</td>\n",
       "      <td>San Antonio</td>\n",
       "      <td>Health and beauty</td>\n",
       "      <td>74.69</td>\n",
       "      <td>7.0</td>\n",
       "      <td>05/01/19</td>\n",
       "      <td>13:08:00</td>\n",
       "      <td>Ewallet</td>\n",
       "      <td>9.1</td>\n",
       "      <td>0.48</td>\n",
       "    </tr>\n",
       "    <tr>\n",
       "      <th>1</th>\n",
       "      <td>2</td>\n",
       "      <td>WALM048</td>\n",
       "      <td>Harlingen</td>\n",
       "      <td>Electronic accessories</td>\n",
       "      <td>15.28</td>\n",
       "      <td>5.0</td>\n",
       "      <td>08/03/19</td>\n",
       "      <td>10:29:00</td>\n",
       "      <td>Cash</td>\n",
       "      <td>9.6</td>\n",
       "      <td>0.48</td>\n",
       "    </tr>\n",
       "    <tr>\n",
       "      <th>2</th>\n",
       "      <td>3</td>\n",
       "      <td>WALM067</td>\n",
       "      <td>Haltom City</td>\n",
       "      <td>Home and lifestyle</td>\n",
       "      <td>46.33</td>\n",
       "      <td>7.0</td>\n",
       "      <td>03/03/19</td>\n",
       "      <td>13:23:00</td>\n",
       "      <td>Credit card</td>\n",
       "      <td>7.4</td>\n",
       "      <td>0.33</td>\n",
       "    </tr>\n",
       "    <tr>\n",
       "      <th>3</th>\n",
       "      <td>4</td>\n",
       "      <td>WALM064</td>\n",
       "      <td>Bedford</td>\n",
       "      <td>Health and beauty</td>\n",
       "      <td>58.22</td>\n",
       "      <td>8.0</td>\n",
       "      <td>27/01/19</td>\n",
       "      <td>20:33:00</td>\n",
       "      <td>Ewallet</td>\n",
       "      <td>8.4</td>\n",
       "      <td>0.33</td>\n",
       "    </tr>\n",
       "    <tr>\n",
       "      <th>4</th>\n",
       "      <td>5</td>\n",
       "      <td>WALM013</td>\n",
       "      <td>Irving</td>\n",
       "      <td>Sports and travel</td>\n",
       "      <td>86.31</td>\n",
       "      <td>7.0</td>\n",
       "      <td>08/02/19</td>\n",
       "      <td>10:37:00</td>\n",
       "      <td>Ewallet</td>\n",
       "      <td>5.3</td>\n",
       "      <td>0.48</td>\n",
       "    </tr>\n",
       "  </tbody>\n",
       "</table>\n",
       "</div>"
      ],
      "text/plain": [
       "   invoice_id   Branch         City                category  unit_price  \\\n",
       "0           1  WALM003  San Antonio       Health and beauty       74.69   \n",
       "1           2  WALM048    Harlingen  Electronic accessories       15.28   \n",
       "2           3  WALM067  Haltom City      Home and lifestyle       46.33   \n",
       "3           4  WALM064      Bedford       Health and beauty       58.22   \n",
       "4           5  WALM013       Irving       Sports and travel       86.31   \n",
       "\n",
       "   quantity      date      time payment_method  rating  profit_margin  \n",
       "0       7.0  05/01/19  13:08:00        Ewallet     9.1           0.48  \n",
       "1       5.0  08/03/19  10:29:00           Cash     9.6           0.48  \n",
       "2       7.0  03/03/19  13:23:00    Credit card     7.4           0.33  \n",
       "3       8.0  27/01/19  20:33:00        Ewallet     8.4           0.33  \n",
       "4       7.0  08/02/19  10:37:00        Ewallet     5.3           0.48  "
      ]
     },
     "execution_count": 17,
     "metadata": {},
     "output_type": "execute_result"
    }
   ],
   "source": [
    "df.head()"
   ]
  },
  {
   "cell_type": "code",
   "execution_count": 18,
   "metadata": {},
   "outputs": [
    {
     "data": {
      "text/plain": [
       "(9969, 12)"
      ]
     },
     "execution_count": 18,
     "metadata": {},
     "output_type": "execute_result"
    }
   ],
   "source": [
    "df['total']= df['unit_price']*df['quantity']\n",
    "df.shape"
   ]
  },
  {
   "cell_type": "code",
   "execution_count": 19,
   "metadata": {},
   "outputs": [
    {
     "name": "stderr",
     "output_type": "stream",
     "text": [
      "C:\\Users\\Thomas Barbosa\\AppData\\Local\\Temp\\ipykernel_21472\\11747544.py:1: UserWarning: Could not infer format, so each element will be parsed individually, falling back to `dateutil`. To ensure parsing is consistent and as-expected, please specify a format.\n",
      "  df[\"Ano\"] = pd.to_datetime(df[\"date\"]).dt.year\n"
     ]
    },
    {
     "data": {
      "application/vnd.microsoft.datawrangler.viewer.v0+json": {
       "columns": [
        {
         "name": "Ano",
         "rawType": "int32",
         "type": "integer"
        },
        {
         "name": "total_fat",
         "rawType": "float64",
         "type": "float"
        }
       ],
       "conversionMethod": "pd.DataFrame",
       "ref": "d65489c4-a404-4540-b6bc-2a659e5f1fab",
       "rows": [
        [
         "2019",
         "307587.38"
        ],
        [
         "2020",
         "219423.0"
        ],
        [
         "2021",
         "233051.0"
        ],
        [
         "2022",
         "217405.0"
        ],
        [
         "2023",
         "232260.0"
        ]
       ],
       "shape": {
        "columns": 1,
        "rows": 5
       }
      },
      "text/html": [
       "<div>\n",
       "<style scoped>\n",
       "    .dataframe tbody tr th:only-of-type {\n",
       "        vertical-align: middle;\n",
       "    }\n",
       "\n",
       "    .dataframe tbody tr th {\n",
       "        vertical-align: top;\n",
       "    }\n",
       "\n",
       "    .dataframe thead th {\n",
       "        text-align: right;\n",
       "    }\n",
       "</style>\n",
       "<table border=\"1\" class=\"dataframe\">\n",
       "  <thead>\n",
       "    <tr style=\"text-align: right;\">\n",
       "      <th></th>\n",
       "      <th>total_fat</th>\n",
       "    </tr>\n",
       "    <tr>\n",
       "      <th>Ano</th>\n",
       "      <th></th>\n",
       "    </tr>\n",
       "  </thead>\n",
       "  <tbody>\n",
       "    <tr>\n",
       "      <th>2019</th>\n",
       "      <td>307587.38</td>\n",
       "    </tr>\n",
       "    <tr>\n",
       "      <th>2020</th>\n",
       "      <td>219423.00</td>\n",
       "    </tr>\n",
       "    <tr>\n",
       "      <th>2021</th>\n",
       "      <td>233051.00</td>\n",
       "    </tr>\n",
       "    <tr>\n",
       "      <th>2022</th>\n",
       "      <td>217405.00</td>\n",
       "    </tr>\n",
       "    <tr>\n",
       "      <th>2023</th>\n",
       "      <td>232260.00</td>\n",
       "    </tr>\n",
       "  </tbody>\n",
       "</table>\n",
       "</div>"
      ],
      "text/plain": [
       "      total_fat\n",
       "Ano            \n",
       "2019  307587.38\n",
       "2020  219423.00\n",
       "2021  233051.00\n",
       "2022  217405.00\n",
       "2023  232260.00"
      ]
     },
     "execution_count": 19,
     "metadata": {},
     "output_type": "execute_result"
    }
   ],
   "source": [
    "df[\"Ano\"] = pd.to_datetime(df[\"date\"]).dt.year\n",
    "df\n",
    "\n",
    "Fat_ano = df.groupby (['Ano']).agg(\n",
    "    total_fat = ('total','sum')\n",
    ")\n",
    "\n",
    "Fat_ano"
   ]
  },
  {
   "cell_type": "code",
   "execution_count": 20,
   "metadata": {},
   "outputs": [],
   "source": [
    "df.to_csv(\"Walmart_Cleanned_Data.csv\",index=False)"
   ]
  },
  {
   "cell_type": "code",
   "execution_count": 21,
   "metadata": {},
   "outputs": [
    {
     "data": {
      "application/vnd.microsoft.datawrangler.viewer.v0+json": {
       "columns": [
        {
         "name": "index",
         "rawType": "object",
         "type": "string"
        },
        {
         "name": "invoice_id",
         "rawType": "float64",
         "type": "float"
        },
        {
         "name": "unit_price",
         "rawType": "float64",
         "type": "float"
        },
        {
         "name": "quantity",
         "rawType": "float64",
         "type": "float"
        },
        {
         "name": "rating",
         "rawType": "float64",
         "type": "float"
        },
        {
         "name": "profit_margin",
         "rawType": "float64",
         "type": "float"
        },
        {
         "name": "total",
         "rawType": "float64",
         "type": "float"
        },
        {
         "name": "Ano",
         "rawType": "float64",
         "type": "float"
        }
       ],
       "conversionMethod": "pd.DataFrame",
       "ref": "1c261717-ef0d-439e-9b1d-1436bcc628aa",
       "rows": [
        [
         "count",
         "9969.0",
         "9969.0",
         "9969.0",
         "9969.0",
         "9969.0",
         "9969.0",
         "9969.0"
        ],
        [
         "mean",
         "5010.1165613401545",
         "50.62214163908115",
         "2.3556023673387503",
         "5.828839402146654",
         "0.3937436051760458",
         "121.34881933995385",
         "2021.2478683920153"
        ],
        [
         "std",
         "2886.217349392968",
         "21.203766202761738",
         "1.6054553618581096",
         "1.7637233829991157",
         "0.09065908608147452",
         "112.6780401504358",
         "1.2956943918206245"
        ],
        [
         "min",
         "1.0",
         "10.08",
         "1.0",
         "3.0",
         "0.18",
         "10.17",
         "2019.0"
        ],
        [
         "25%",
         "2524.0",
         "32.0",
         "1.0",
         "4.0",
         "0.33",
         "54.0",
         "2020.0"
        ],
        [
         "50%",
         "5016.0",
         "51.0",
         "2.0",
         "6.0",
         "0.33",
         "88.0",
         "2021.0"
        ],
        [
         "75%",
         "7508.0",
         "69.0",
         "3.0",
         "7.0",
         "0.48",
         "156.0",
         "2022.0"
        ],
        [
         "max",
         "10000.0",
         "99.96",
         "10.0",
         "10.0",
         "0.57",
         "993.0",
         "2023.0"
        ]
       ],
       "shape": {
        "columns": 7,
        "rows": 8
       }
      },
      "text/html": [
       "<div>\n",
       "<style scoped>\n",
       "    .dataframe tbody tr th:only-of-type {\n",
       "        vertical-align: middle;\n",
       "    }\n",
       "\n",
       "    .dataframe tbody tr th {\n",
       "        vertical-align: top;\n",
       "    }\n",
       "\n",
       "    .dataframe thead th {\n",
       "        text-align: right;\n",
       "    }\n",
       "</style>\n",
       "<table border=\"1\" class=\"dataframe\">\n",
       "  <thead>\n",
       "    <tr style=\"text-align: right;\">\n",
       "      <th></th>\n",
       "      <th>invoice_id</th>\n",
       "      <th>unit_price</th>\n",
       "      <th>quantity</th>\n",
       "      <th>rating</th>\n",
       "      <th>profit_margin</th>\n",
       "      <th>total</th>\n",
       "      <th>Ano</th>\n",
       "    </tr>\n",
       "  </thead>\n",
       "  <tbody>\n",
       "    <tr>\n",
       "      <th>count</th>\n",
       "      <td>9969.000000</td>\n",
       "      <td>9969.000000</td>\n",
       "      <td>9969.000000</td>\n",
       "      <td>9969.000000</td>\n",
       "      <td>9969.000000</td>\n",
       "      <td>9969.000000</td>\n",
       "      <td>9969.000000</td>\n",
       "    </tr>\n",
       "    <tr>\n",
       "      <th>mean</th>\n",
       "      <td>5010.116561</td>\n",
       "      <td>50.622142</td>\n",
       "      <td>2.355602</td>\n",
       "      <td>5.828839</td>\n",
       "      <td>0.393744</td>\n",
       "      <td>121.348819</td>\n",
       "      <td>2021.247868</td>\n",
       "    </tr>\n",
       "    <tr>\n",
       "      <th>std</th>\n",
       "      <td>2886.217349</td>\n",
       "      <td>21.203766</td>\n",
       "      <td>1.605455</td>\n",
       "      <td>1.763723</td>\n",
       "      <td>0.090659</td>\n",
       "      <td>112.678040</td>\n",
       "      <td>1.295694</td>\n",
       "    </tr>\n",
       "    <tr>\n",
       "      <th>min</th>\n",
       "      <td>1.000000</td>\n",
       "      <td>10.080000</td>\n",
       "      <td>1.000000</td>\n",
       "      <td>3.000000</td>\n",
       "      <td>0.180000</td>\n",
       "      <td>10.170000</td>\n",
       "      <td>2019.000000</td>\n",
       "    </tr>\n",
       "    <tr>\n",
       "      <th>25%</th>\n",
       "      <td>2524.000000</td>\n",
       "      <td>32.000000</td>\n",
       "      <td>1.000000</td>\n",
       "      <td>4.000000</td>\n",
       "      <td>0.330000</td>\n",
       "      <td>54.000000</td>\n",
       "      <td>2020.000000</td>\n",
       "    </tr>\n",
       "    <tr>\n",
       "      <th>50%</th>\n",
       "      <td>5016.000000</td>\n",
       "      <td>51.000000</td>\n",
       "      <td>2.000000</td>\n",
       "      <td>6.000000</td>\n",
       "      <td>0.330000</td>\n",
       "      <td>88.000000</td>\n",
       "      <td>2021.000000</td>\n",
       "    </tr>\n",
       "    <tr>\n",
       "      <th>75%</th>\n",
       "      <td>7508.000000</td>\n",
       "      <td>69.000000</td>\n",
       "      <td>3.000000</td>\n",
       "      <td>7.000000</td>\n",
       "      <td>0.480000</td>\n",
       "      <td>156.000000</td>\n",
       "      <td>2022.000000</td>\n",
       "    </tr>\n",
       "    <tr>\n",
       "      <th>max</th>\n",
       "      <td>10000.000000</td>\n",
       "      <td>99.960000</td>\n",
       "      <td>10.000000</td>\n",
       "      <td>10.000000</td>\n",
       "      <td>0.570000</td>\n",
       "      <td>993.000000</td>\n",
       "      <td>2023.000000</td>\n",
       "    </tr>\n",
       "  </tbody>\n",
       "</table>\n",
       "</div>"
      ],
      "text/plain": [
       "         invoice_id   unit_price     quantity       rating  profit_margin  \\\n",
       "count   9969.000000  9969.000000  9969.000000  9969.000000    9969.000000   \n",
       "mean    5010.116561    50.622142     2.355602     5.828839       0.393744   \n",
       "std     2886.217349    21.203766     1.605455     1.763723       0.090659   \n",
       "min        1.000000    10.080000     1.000000     3.000000       0.180000   \n",
       "25%     2524.000000    32.000000     1.000000     4.000000       0.330000   \n",
       "50%     5016.000000    51.000000     2.000000     6.000000       0.330000   \n",
       "75%     7508.000000    69.000000     3.000000     7.000000       0.480000   \n",
       "max    10000.000000    99.960000    10.000000    10.000000       0.570000   \n",
       "\n",
       "             total          Ano  \n",
       "count  9969.000000  9969.000000  \n",
       "mean    121.348819  2021.247868  \n",
       "std     112.678040     1.295694  \n",
       "min      10.170000  2019.000000  \n",
       "25%      54.000000  2020.000000  \n",
       "50%      88.000000  2021.000000  \n",
       "75%     156.000000  2022.000000  \n",
       "max     993.000000  2023.000000  "
      ]
     },
     "execution_count": 21,
     "metadata": {},
     "output_type": "execute_result"
    }
   ],
   "source": [
    "df.describe()"
   ]
  },
  {
   "cell_type": "code",
   "execution_count": 22,
   "metadata": {},
   "outputs": [
    {
     "ename": "KeyError",
     "evalue": "''",
     "output_type": "error",
     "traceback": [
      "\u001b[1;31m---------------------------------------------------------------------------\u001b[0m",
      "\u001b[1;31mKeyError\u001b[0m                                  Traceback (most recent call last)",
      "Cell \u001b[1;32mIn[22], line 1\u001b[0m\n\u001b[1;32m----> 1\u001b[0m \u001b[43mdf\u001b[49m\u001b[38;5;241;43m.\u001b[39;49m\u001b[43mgroupby\u001b[49m\u001b[43m(\u001b[49m\u001b[38;5;124;43m'\u001b[39;49m\u001b[38;5;124;43m'\u001b[39;49m\u001b[43m)\u001b[49m\n",
      "File \u001b[1;32mc:\\Users\\Thomas Barbosa\\Desktop\\Projetos\\P1 - Walmart Sales Data Analysis\\my_env1\\Lib\\site-packages\\pandas\\core\\frame.py:9183\u001b[0m, in \u001b[0;36mDataFrame.groupby\u001b[1;34m(self, by, axis, level, as_index, sort, group_keys, observed, dropna)\u001b[0m\n\u001b[0;32m   9180\u001b[0m \u001b[38;5;28;01mif\u001b[39;00m level \u001b[38;5;129;01mis\u001b[39;00m \u001b[38;5;28;01mNone\u001b[39;00m \u001b[38;5;129;01mand\u001b[39;00m by \u001b[38;5;129;01mis\u001b[39;00m \u001b[38;5;28;01mNone\u001b[39;00m:\n\u001b[0;32m   9181\u001b[0m     \u001b[38;5;28;01mraise\u001b[39;00m \u001b[38;5;167;01mTypeError\u001b[39;00m(\u001b[38;5;124m\"\u001b[39m\u001b[38;5;124mYou have to supply one of \u001b[39m\u001b[38;5;124m'\u001b[39m\u001b[38;5;124mby\u001b[39m\u001b[38;5;124m'\u001b[39m\u001b[38;5;124m and \u001b[39m\u001b[38;5;124m'\u001b[39m\u001b[38;5;124mlevel\u001b[39m\u001b[38;5;124m'\u001b[39m\u001b[38;5;124m\"\u001b[39m)\n\u001b[1;32m-> 9183\u001b[0m \u001b[38;5;28;01mreturn\u001b[39;00m \u001b[43mDataFrameGroupBy\u001b[49m\u001b[43m(\u001b[49m\n\u001b[0;32m   9184\u001b[0m \u001b[43m    \u001b[49m\u001b[43mobj\u001b[49m\u001b[38;5;241;43m=\u001b[39;49m\u001b[38;5;28;43mself\u001b[39;49m\u001b[43m,\u001b[49m\n\u001b[0;32m   9185\u001b[0m \u001b[43m    \u001b[49m\u001b[43mkeys\u001b[49m\u001b[38;5;241;43m=\u001b[39;49m\u001b[43mby\u001b[49m\u001b[43m,\u001b[49m\n\u001b[0;32m   9186\u001b[0m \u001b[43m    \u001b[49m\u001b[43maxis\u001b[49m\u001b[38;5;241;43m=\u001b[39;49m\u001b[43maxis\u001b[49m\u001b[43m,\u001b[49m\n\u001b[0;32m   9187\u001b[0m \u001b[43m    \u001b[49m\u001b[43mlevel\u001b[49m\u001b[38;5;241;43m=\u001b[39;49m\u001b[43mlevel\u001b[49m\u001b[43m,\u001b[49m\n\u001b[0;32m   9188\u001b[0m \u001b[43m    \u001b[49m\u001b[43mas_index\u001b[49m\u001b[38;5;241;43m=\u001b[39;49m\u001b[43mas_index\u001b[49m\u001b[43m,\u001b[49m\n\u001b[0;32m   9189\u001b[0m \u001b[43m    \u001b[49m\u001b[43msort\u001b[49m\u001b[38;5;241;43m=\u001b[39;49m\u001b[43msort\u001b[49m\u001b[43m,\u001b[49m\n\u001b[0;32m   9190\u001b[0m \u001b[43m    \u001b[49m\u001b[43mgroup_keys\u001b[49m\u001b[38;5;241;43m=\u001b[39;49m\u001b[43mgroup_keys\u001b[49m\u001b[43m,\u001b[49m\n\u001b[0;32m   9191\u001b[0m \u001b[43m    \u001b[49m\u001b[43mobserved\u001b[49m\u001b[38;5;241;43m=\u001b[39;49m\u001b[43mobserved\u001b[49m\u001b[43m,\u001b[49m\n\u001b[0;32m   9192\u001b[0m \u001b[43m    \u001b[49m\u001b[43mdropna\u001b[49m\u001b[38;5;241;43m=\u001b[39;49m\u001b[43mdropna\u001b[49m\u001b[43m,\u001b[49m\n\u001b[0;32m   9193\u001b[0m \u001b[43m\u001b[49m\u001b[43m)\u001b[49m\n",
      "File \u001b[1;32mc:\\Users\\Thomas Barbosa\\Desktop\\Projetos\\P1 - Walmart Sales Data Analysis\\my_env1\\Lib\\site-packages\\pandas\\core\\groupby\\groupby.py:1329\u001b[0m, in \u001b[0;36mGroupBy.__init__\u001b[1;34m(self, obj, keys, axis, level, grouper, exclusions, selection, as_index, sort, group_keys, observed, dropna)\u001b[0m\n\u001b[0;32m   1326\u001b[0m \u001b[38;5;28mself\u001b[39m\u001b[38;5;241m.\u001b[39mdropna \u001b[38;5;241m=\u001b[39m dropna\n\u001b[0;32m   1328\u001b[0m \u001b[38;5;28;01mif\u001b[39;00m grouper \u001b[38;5;129;01mis\u001b[39;00m \u001b[38;5;28;01mNone\u001b[39;00m:\n\u001b[1;32m-> 1329\u001b[0m     grouper, exclusions, obj \u001b[38;5;241m=\u001b[39m \u001b[43mget_grouper\u001b[49m\u001b[43m(\u001b[49m\n\u001b[0;32m   1330\u001b[0m \u001b[43m        \u001b[49m\u001b[43mobj\u001b[49m\u001b[43m,\u001b[49m\n\u001b[0;32m   1331\u001b[0m \u001b[43m        \u001b[49m\u001b[43mkeys\u001b[49m\u001b[43m,\u001b[49m\n\u001b[0;32m   1332\u001b[0m \u001b[43m        \u001b[49m\u001b[43maxis\u001b[49m\u001b[38;5;241;43m=\u001b[39;49m\u001b[43maxis\u001b[49m\u001b[43m,\u001b[49m\n\u001b[0;32m   1333\u001b[0m \u001b[43m        \u001b[49m\u001b[43mlevel\u001b[49m\u001b[38;5;241;43m=\u001b[39;49m\u001b[43mlevel\u001b[49m\u001b[43m,\u001b[49m\n\u001b[0;32m   1334\u001b[0m \u001b[43m        \u001b[49m\u001b[43msort\u001b[49m\u001b[38;5;241;43m=\u001b[39;49m\u001b[43msort\u001b[49m\u001b[43m,\u001b[49m\n\u001b[0;32m   1335\u001b[0m \u001b[43m        \u001b[49m\u001b[43mobserved\u001b[49m\u001b[38;5;241;43m=\u001b[39;49m\u001b[38;5;28;43;01mFalse\u001b[39;49;00m\u001b[43m \u001b[49m\u001b[38;5;28;43;01mif\u001b[39;49;00m\u001b[43m \u001b[49m\u001b[43mobserved\u001b[49m\u001b[43m \u001b[49m\u001b[38;5;129;43;01mis\u001b[39;49;00m\u001b[43m \u001b[49m\u001b[43mlib\u001b[49m\u001b[38;5;241;43m.\u001b[39;49m\u001b[43mno_default\u001b[49m\u001b[43m \u001b[49m\u001b[38;5;28;43;01melse\u001b[39;49;00m\u001b[43m \u001b[49m\u001b[43mobserved\u001b[49m\u001b[43m,\u001b[49m\n\u001b[0;32m   1336\u001b[0m \u001b[43m        \u001b[49m\u001b[43mdropna\u001b[49m\u001b[38;5;241;43m=\u001b[39;49m\u001b[38;5;28;43mself\u001b[39;49m\u001b[38;5;241;43m.\u001b[39;49m\u001b[43mdropna\u001b[49m\u001b[43m,\u001b[49m\n\u001b[0;32m   1337\u001b[0m \u001b[43m    \u001b[49m\u001b[43m)\u001b[49m\n\u001b[0;32m   1339\u001b[0m \u001b[38;5;28;01mif\u001b[39;00m observed \u001b[38;5;129;01mis\u001b[39;00m lib\u001b[38;5;241m.\u001b[39mno_default:\n\u001b[0;32m   1340\u001b[0m     \u001b[38;5;28;01mif\u001b[39;00m \u001b[38;5;28many\u001b[39m(ping\u001b[38;5;241m.\u001b[39m_passed_categorical \u001b[38;5;28;01mfor\u001b[39;00m ping \u001b[38;5;129;01min\u001b[39;00m grouper\u001b[38;5;241m.\u001b[39mgroupings):\n",
      "File \u001b[1;32mc:\\Users\\Thomas Barbosa\\Desktop\\Projetos\\P1 - Walmart Sales Data Analysis\\my_env1\\Lib\\site-packages\\pandas\\core\\groupby\\grouper.py:1043\u001b[0m, in \u001b[0;36mget_grouper\u001b[1;34m(obj, key, axis, level, sort, observed, validate, dropna)\u001b[0m\n\u001b[0;32m   1041\u001b[0m         in_axis, level, gpr \u001b[38;5;241m=\u001b[39m \u001b[38;5;28;01mFalse\u001b[39;00m, gpr, \u001b[38;5;28;01mNone\u001b[39;00m\n\u001b[0;32m   1042\u001b[0m     \u001b[38;5;28;01melse\u001b[39;00m:\n\u001b[1;32m-> 1043\u001b[0m         \u001b[38;5;28;01mraise\u001b[39;00m \u001b[38;5;167;01mKeyError\u001b[39;00m(gpr)\n\u001b[0;32m   1044\u001b[0m \u001b[38;5;28;01melif\u001b[39;00m \u001b[38;5;28misinstance\u001b[39m(gpr, Grouper) \u001b[38;5;129;01mand\u001b[39;00m gpr\u001b[38;5;241m.\u001b[39mkey \u001b[38;5;129;01mis\u001b[39;00m \u001b[38;5;129;01mnot\u001b[39;00m \u001b[38;5;28;01mNone\u001b[39;00m:\n\u001b[0;32m   1045\u001b[0m     \u001b[38;5;66;03m# Add key to exclusions\u001b[39;00m\n\u001b[0;32m   1046\u001b[0m     exclusions\u001b[38;5;241m.\u001b[39madd(gpr\u001b[38;5;241m.\u001b[39mkey)\n",
      "\u001b[1;31mKeyError\u001b[0m: ''"
     ]
    }
   ],
   "source": [
    "df.groupby('')"
   ]
  },
  {
   "cell_type": "markdown",
   "metadata": {},
   "source": [
    "### Step 2 - Load Data in MySQL"
   ]
  },
  {
   "cell_type": "markdown",
   "metadata": {},
   "source": [
    "### Step 3 - Bussiness Problems"
   ]
  },
  {
   "cell_type": "code",
   "execution_count": 3,
   "metadata": {},
   "outputs": [
    {
     "name": "stdout",
     "output_type": "stream",
     "text": [
      "<class 'pandas.core.frame.DataFrame'>\n",
      "RangeIndex: 9969 entries, 0 to 9968\n",
      "Data columns (total 13 columns):\n",
      " #   Column          Non-Null Count  Dtype  \n",
      "---  ------          --------------  -----  \n",
      " 0   invoice_id      9969 non-null   int64  \n",
      " 1   Branch          9969 non-null   object \n",
      " 2   City            9969 non-null   object \n",
      " 3   category        9969 non-null   object \n",
      " 4   unit_price      9969 non-null   float64\n",
      " 5   quantity        9969 non-null   float64\n",
      " 6   date            9969 non-null   object \n",
      " 7   time            9969 non-null   object \n",
      " 8   payment_method  9969 non-null   object \n",
      " 9   rating          9969 non-null   float64\n",
      " 10  profit_margin   9969 non-null   float64\n",
      " 11  total           9969 non-null   float64\n",
      " 12  Ano             9969 non-null   int64  \n",
      "dtypes: float64(5), int64(2), object(6)\n",
      "memory usage: 1012.6+ KB\n"
     ]
    }
   ],
   "source": [
    "# Leitura dos dataset\n",
    "\n",
    "df_clean = pd.read_csv('Walmart_Cleanned_Data.csv')\n",
    "df_clean.head()\n",
    "df_clean.shape\n",
    "df_clean.info()"
   ]
  },
  {
   "cell_type": "code",
   "execution_count": 39,
   "metadata": {},
   "outputs": [],
   "source": [
    "df_clean['date'] = pd.to_datetime(df_clean['date'], format='mixed', dayfirst=True)"
   ]
  },
  {
   "cell_type": "markdown",
   "metadata": {},
   "source": [
    "#### Question 1"
   ]
  },
  {
   "cell_type": "code",
   "execution_count": 40,
   "metadata": {},
   "outputs": [
    {
     "data": {
      "application/vnd.microsoft.datawrangler.viewer.v0+json": {
       "columns": [
        {
         "name": "index",
         "rawType": "int64",
         "type": "integer"
        },
        {
         "name": "payment_method",
         "rawType": "object",
         "type": "string"
        },
        {
         "name": "transactions",
         "rawType": "int64",
         "type": "integer"
        },
        {
         "name": "quantity_sold",
         "rawType": "float64",
         "type": "float"
        }
       ],
       "conversionMethod": "pd.DataFrame",
       "ref": "59ce1e01-7d37-4604-aa3d-b257ac60213c",
       "rows": [
        [
         "0",
         "Cash",
         "1832",
         "4984.0"
        ],
        [
         "1",
         "Credit card",
         "4256",
         "9567.0"
        ],
        [
         "2",
         "Ewallet",
         "3881",
         "8932.0"
        ]
       ],
       "shape": {
        "columns": 3,
        "rows": 3
       }
      },
      "text/html": [
       "<div>\n",
       "<style scoped>\n",
       "    .dataframe tbody tr th:only-of-type {\n",
       "        vertical-align: middle;\n",
       "    }\n",
       "\n",
       "    .dataframe tbody tr th {\n",
       "        vertical-align: top;\n",
       "    }\n",
       "\n",
       "    .dataframe thead th {\n",
       "        text-align: right;\n",
       "    }\n",
       "</style>\n",
       "<table border=\"1\" class=\"dataframe\">\n",
       "  <thead>\n",
       "    <tr style=\"text-align: right;\">\n",
       "      <th></th>\n",
       "      <th>payment_method</th>\n",
       "      <th>transactions</th>\n",
       "      <th>quantity_sold</th>\n",
       "    </tr>\n",
       "  </thead>\n",
       "  <tbody>\n",
       "    <tr>\n",
       "      <th>0</th>\n",
       "      <td>Cash</td>\n",
       "      <td>1832</td>\n",
       "      <td>4984.0</td>\n",
       "    </tr>\n",
       "    <tr>\n",
       "      <th>1</th>\n",
       "      <td>Credit card</td>\n",
       "      <td>4256</td>\n",
       "      <td>9567.0</td>\n",
       "    </tr>\n",
       "    <tr>\n",
       "      <th>2</th>\n",
       "      <td>Ewallet</td>\n",
       "      <td>3881</td>\n",
       "      <td>8932.0</td>\n",
       "    </tr>\n",
       "  </tbody>\n",
       "</table>\n",
       "</div>"
      ],
      "text/plain": [
       "  payment_method  transactions  quantity_sold\n",
       "0           Cash          1832         4984.0\n",
       "1    Credit card          4256         9567.0\n",
       "2        Ewallet          3881         8932.0"
      ]
     },
     "execution_count": 40,
     "metadata": {},
     "output_type": "execute_result"
    }
   ],
   "source": [
    "# Q1. Find different payment methods, number of transactions, and quantity sold by payment method\n",
    "\n",
    "q1 = df_clean.groupby('payment_method').agg(\n",
    "    transactions = ('invoice_id', 'count'),\n",
    "    quantity_sold = ('quantity', 'sum')\n",
    ").reset_index()\n",
    "q1"
   ]
  },
  {
   "cell_type": "markdown",
   "metadata": {},
   "source": [
    "#### Question 2"
   ]
  },
  {
   "cell_type": "code",
   "execution_count": 58,
   "metadata": {},
   "outputs": [
    {
     "data": {
      "application/vnd.microsoft.datawrangler.viewer.v0+json": {
       "columns": [
        {
         "name": "index",
         "rawType": "int64",
         "type": "integer"
        },
        {
         "name": "Branch",
         "rawType": "object",
         "type": "string"
        },
        {
         "name": "category",
         "rawType": "object",
         "type": "string"
        },
        {
         "name": "average_rating",
         "rawType": "float64",
         "type": "float"
        }
       ],
       "conversionMethod": "pd.DataFrame",
       "ref": "17a97287-2150-4179-b070-240da301b507",
       "rows": [
        [
         "0",
         "WALM001",
         "Electronic accessories",
         "7.45"
        ],
        [
         "1",
         "WALM001",
         "Fashion accessories",
         "6.357575757575758"
        ],
        [
         "2",
         "WALM001",
         "Home and lifestyle",
         "6.163888888888889"
        ],
        [
         "3",
         "WALM001",
         "Sports and travel",
         "6.533333333333334"
        ],
        [
         "4",
         "WALM002",
         "Electronic accessories",
         "8.125"
        ],
        [
         "5",
         "WALM002",
         "Fashion accessories",
         "5.955172413793103"
        ],
        [
         "6",
         "WALM002",
         "Food and beverages",
         "8.25"
        ],
        [
         "7",
         "WALM002",
         "Home and lifestyle",
         "6.003448275862069"
        ],
        [
         "8",
         "WALM002",
         "Sports and travel",
         "5.6"
        ],
        [
         "9",
         "WALM003",
         "Electronic accessories",
         "5.517647058823529"
        ],
        [
         "10",
         "WALM003",
         "Fashion accessories",
         "5.121951219512195"
        ],
        [
         "11",
         "WALM003",
         "Food and beverages",
         "6.466666666666666"
        ],
        [
         "12",
         "WALM003",
         "Health and beauty",
         "7.05"
        ],
        [
         "13",
         "WALM003",
         "Home and lifestyle",
         "5.4575000000000005"
        ],
        [
         "14",
         "WALM003",
         "Sports and travel",
         "7.5"
        ],
        [
         "15",
         "WALM004",
         "Electronic accessories",
         "5.5"
        ],
        [
         "16",
         "WALM004",
         "Fashion accessories",
         "7.16774193548387"
        ],
        [
         "17",
         "WALM004",
         "Food and beverages",
         "9.3"
        ],
        [
         "18",
         "WALM004",
         "Health and beauty",
         "6.6"
        ],
        [
         "19",
         "WALM004",
         "Home and lifestyle",
         "6.788461538461538"
        ],
        [
         "20",
         "WALM005",
         "Electronic accessories",
         "6.8"
        ],
        [
         "21",
         "WALM005",
         "Fashion accessories",
         "6.335135135135135"
        ],
        [
         "22",
         "WALM005",
         "Food and beverages",
         "7.25"
        ],
        [
         "23",
         "WALM005",
         "Health and beauty",
         "8.366666666666667"
        ],
        [
         "24",
         "WALM005",
         "Home and lifestyle",
         "6.6189189189189195"
        ],
        [
         "25",
         "WALM006",
         "Fashion accessories",
         "6.797058823529412"
        ],
        [
         "26",
         "WALM006",
         "Food and beverages",
         "6.0"
        ],
        [
         "27",
         "WALM006",
         "Home and lifestyle",
         "5.876470588235295"
        ],
        [
         "28",
         "WALM006",
         "Sports and travel",
         "6.5"
        ],
        [
         "29",
         "WALM007",
         "Electronic accessories",
         "5.166666666666667"
        ],
        [
         "30",
         "WALM007",
         "Fashion accessories",
         "6.196969696969697"
        ],
        [
         "31",
         "WALM007",
         "Food and beverages",
         "7.55"
        ],
        [
         "32",
         "WALM007",
         "Home and lifestyle",
         "6.326666666666667"
        ],
        [
         "33",
         "WALM007",
         "Sports and travel",
         "5.4"
        ],
        [
         "34",
         "WALM008",
         "Electronic accessories",
         "4.2"
        ],
        [
         "35",
         "WALM008",
         "Fashion accessories",
         "6.0"
        ],
        [
         "36",
         "WALM008",
         "Food and beverages",
         "7.4"
        ],
        [
         "37",
         "WALM008",
         "Health and beauty",
         "6.85"
        ],
        [
         "38",
         "WALM008",
         "Home and lifestyle",
         "6.633333333333334"
        ],
        [
         "39",
         "WALM008",
         "Sports and travel",
         "4.5"
        ],
        [
         "40",
         "WALM009",
         "Electronic accessories",
         "6.0"
        ],
        [
         "41",
         "WALM009",
         "Fashion accessories",
         "5.326785714285714"
        ],
        [
         "42",
         "WALM009",
         "Food and beverages",
         "7.0"
        ],
        [
         "43",
         "WALM009",
         "Home and lifestyle",
         "5.1663461538461535"
        ],
        [
         "44",
         "WALM009",
         "Sports and travel",
         "9.6"
        ],
        [
         "45",
         "WALM010",
         "Electronic accessories",
         "9.0"
        ],
        [
         "46",
         "WALM010",
         "Fashion accessories",
         "6.94375"
        ],
        [
         "47",
         "WALM010",
         "Food and beverages",
         "6.550000000000001"
        ],
        [
         "48",
         "WALM010",
         "Health and beauty",
         "6.3"
        ],
        [
         "49",
         "WALM010",
         "Home and lifestyle",
         "6.263333333333334"
        ]
       ],
       "shape": {
        "columns": 3,
        "rows": 522
       }
      },
      "text/html": [
       "<div>\n",
       "<style scoped>\n",
       "    .dataframe tbody tr th:only-of-type {\n",
       "        vertical-align: middle;\n",
       "    }\n",
       "\n",
       "    .dataframe tbody tr th {\n",
       "        vertical-align: top;\n",
       "    }\n",
       "\n",
       "    .dataframe thead th {\n",
       "        text-align: right;\n",
       "    }\n",
       "</style>\n",
       "<table border=\"1\" class=\"dataframe\">\n",
       "  <thead>\n",
       "    <tr style=\"text-align: right;\">\n",
       "      <th></th>\n",
       "      <th>Branch</th>\n",
       "      <th>category</th>\n",
       "      <th>average_rating</th>\n",
       "    </tr>\n",
       "  </thead>\n",
       "  <tbody>\n",
       "    <tr>\n",
       "      <th>0</th>\n",
       "      <td>WALM001</td>\n",
       "      <td>Electronic accessories</td>\n",
       "      <td>7.450000</td>\n",
       "    </tr>\n",
       "    <tr>\n",
       "      <th>1</th>\n",
       "      <td>WALM001</td>\n",
       "      <td>Fashion accessories</td>\n",
       "      <td>6.357576</td>\n",
       "    </tr>\n",
       "    <tr>\n",
       "      <th>2</th>\n",
       "      <td>WALM001</td>\n",
       "      <td>Home and lifestyle</td>\n",
       "      <td>6.163889</td>\n",
       "    </tr>\n",
       "    <tr>\n",
       "      <th>3</th>\n",
       "      <td>WALM001</td>\n",
       "      <td>Sports and travel</td>\n",
       "      <td>6.533333</td>\n",
       "    </tr>\n",
       "    <tr>\n",
       "      <th>4</th>\n",
       "      <td>WALM002</td>\n",
       "      <td>Electronic accessories</td>\n",
       "      <td>8.125000</td>\n",
       "    </tr>\n",
       "    <tr>\n",
       "      <th>...</th>\n",
       "      <td>...</td>\n",
       "      <td>...</td>\n",
       "      <td>...</td>\n",
       "    </tr>\n",
       "    <tr>\n",
       "      <th>517</th>\n",
       "      <td>WALM100</td>\n",
       "      <td>Electronic accessories</td>\n",
       "      <td>6.166667</td>\n",
       "    </tr>\n",
       "    <tr>\n",
       "      <th>518</th>\n",
       "      <td>WALM100</td>\n",
       "      <td>Fashion accessories</td>\n",
       "      <td>6.068000</td>\n",
       "    </tr>\n",
       "    <tr>\n",
       "      <th>519</th>\n",
       "      <td>WALM100</td>\n",
       "      <td>Health and beauty</td>\n",
       "      <td>6.900000</td>\n",
       "    </tr>\n",
       "    <tr>\n",
       "      <th>520</th>\n",
       "      <td>WALM100</td>\n",
       "      <td>Home and lifestyle</td>\n",
       "      <td>6.250000</td>\n",
       "    </tr>\n",
       "    <tr>\n",
       "      <th>521</th>\n",
       "      <td>WALM100</td>\n",
       "      <td>Sports and travel</td>\n",
       "      <td>6.333333</td>\n",
       "    </tr>\n",
       "  </tbody>\n",
       "</table>\n",
       "<p>522 rows × 3 columns</p>\n",
       "</div>"
      ],
      "text/plain": [
       "      Branch                category  average_rating\n",
       "0    WALM001  Electronic accessories        7.450000\n",
       "1    WALM001     Fashion accessories        6.357576\n",
       "2    WALM001      Home and lifestyle        6.163889\n",
       "3    WALM001       Sports and travel        6.533333\n",
       "4    WALM002  Electronic accessories        8.125000\n",
       "..       ...                     ...             ...\n",
       "517  WALM100  Electronic accessories        6.166667\n",
       "518  WALM100     Fashion accessories        6.068000\n",
       "519  WALM100       Health and beauty        6.900000\n",
       "520  WALM100      Home and lifestyle        6.250000\n",
       "521  WALM100       Sports and travel        6.333333\n",
       "\n",
       "[522 rows x 3 columns]"
      ]
     },
     "execution_count": 58,
     "metadata": {},
     "output_type": "execute_result"
    }
   ],
   "source": [
    "# Q2. Identify the highest-rated category in each branch. Display the branch, category, and average rating\n",
    "\n",
    "#Q2_a) average rating from category in each branch\n",
    "q2a = df_clean.groupby(['Branch','category']).agg(\n",
    "     average_rating = ('rating', 'mean')\n",
    ").reset_index()\n",
    "q2a"
   ]
  },
  {
   "cell_type": "code",
   "execution_count": 59,
   "metadata": {},
   "outputs": [
    {
     "data": {
      "application/vnd.microsoft.datawrangler.viewer.v0+json": {
       "columns": [
        {
         "name": "index",
         "rawType": "int64",
         "type": "integer"
        },
        {
         "name": "Branch",
         "rawType": "object",
         "type": "string"
        },
        {
         "name": "category",
         "rawType": "object",
         "type": "string"
        },
        {
         "name": "average_rating",
         "rawType": "float64",
         "type": "float"
        }
       ],
       "conversionMethod": "pd.DataFrame",
       "ref": "1902ed85-7045-4f1e-84c0-7dfb28e0f4fb",
       "rows": [
        [
         "0",
         "WALM001",
         "Electronic accessories",
         "7.45"
        ],
        [
         "6",
         "WALM002",
         "Food and beverages",
         "8.25"
        ],
        [
         "14",
         "WALM003",
         "Sports and travel",
         "7.5"
        ],
        [
         "17",
         "WALM004",
         "Food and beverages",
         "9.3"
        ],
        [
         "23",
         "WALM005",
         "Health and beauty",
         "8.366666666666667"
        ],
        [
         "25",
         "WALM006",
         "Fashion accessories",
         "6.797058823529412"
        ],
        [
         "31",
         "WALM007",
         "Food and beverages",
         "7.55"
        ],
        [
         "36",
         "WALM008",
         "Food and beverages",
         "7.4"
        ],
        [
         "44",
         "WALM009",
         "Sports and travel",
         "9.6"
        ],
        [
         "45",
         "WALM010",
         "Electronic accessories",
         "9.0"
        ],
        [
         "52",
         "WALM011",
         "Food and beverages",
         "7.0"
        ],
        [
         "58",
         "WALM012",
         "Health and beauty",
         "7.45"
        ],
        [
         "62",
         "WALM013",
         "Health and beauty",
         "7.6"
        ],
        [
         "65",
         "WALM014",
         "Electronic accessories",
         "6.833333333333333"
        ],
        [
         "72",
         "WALM015",
         "Home and lifestyle",
         "6.223076923076923"
        ],
        [
         "78",
         "WALM016",
         "Sports and travel",
         "9.1"
        ],
        [
         "79",
         "WALM017",
         "Electronic accessories",
         "7.0"
        ],
        [
         "85",
         "WALM018",
         "Electronic accessories",
         "8.75"
        ],
        [
         "89",
         "WALM019",
         "Electronic accessories",
         "8.4"
        ],
        [
         "95",
         "WALM020",
         "Food and beverages",
         "8.333333333333334"
        ],
        [
         "103",
         "WALM021",
         "Sports and travel",
         "7.2"
        ],
        [
         "107",
         "WALM022",
         "Health and beauty",
         "8.8"
        ],
        [
         "113",
         "WALM023",
         "Health and beauty",
         "8.0"
        ],
        [
         "116",
         "WALM024",
         "Electronic accessories",
         "8.7"
        ],
        [
         "123",
         "WALM025",
         "Food and beverages",
         "8.4"
        ],
        [
         "130",
         "WALM026",
         "Health and beauty",
         "6.85"
        ],
        [
         "136",
         "WALM027",
         "Health and beauty",
         "9.7"
        ],
        [
         "140",
         "WALM028",
         "Food and beverages",
         "8.0"
        ],
        [
         "145",
         "WALM029",
         "Food and beverages",
         "8.9"
        ],
        [
         "154",
         "WALM030",
         "Sports and travel",
         "8.6"
        ],
        [
         "155",
         "WALM031",
         "Electronic accessories",
         "7.566666666666666"
        ],
        [
         "162",
         "WALM032",
         "Fashion accessories",
         "5.541095890410959"
        ],
        [
         "167",
         "WALM033",
         "Home and lifestyle",
         "6.661904761904762"
        ],
        [
         "172",
         "WALM034",
         "Health and beauty",
         "10.0"
        ],
        [
         "179",
         "WALM035",
         "Sports and travel",
         "9.3"
        ],
        [
         "181",
         "WALM036",
         "Fashion accessories",
         "6.589743589743589"
        ],
        [
         "191",
         "WALM037",
         "Sports and travel",
         "9.35"
        ],
        [
         "197",
         "WALM038",
         "Sports and travel",
         "8.5"
        ],
        [
         "200",
         "WALM039",
         "Food and beverages",
         "9.025"
        ],
        [
         "205",
         "WALM040",
         "Health and beauty",
         "8.6"
        ],
        [
         "209",
         "WALM041",
         "Food and beverages",
         "8.0"
        ],
        [
         "217",
         "WALM042",
         "Sports and travel",
         "7.25"
        ],
        [
         "221",
         "WALM043",
         "Sports and travel",
         "6.45"
        ],
        [
         "225",
         "WALM044",
         "Health and beauty",
         "9.2"
        ],
        [
         "230",
         "WALM045",
         "Food and beverages",
         "9.3"
        ],
        [
         "236",
         "WALM046",
         "Food and beverages",
         "7.3"
        ],
        [
         "242",
         "WALM047",
         "Health and beauty",
         "7.95"
        ],
        [
         "245",
         "WALM048",
         "Electronic accessories",
         "9.6"
        ],
        [
         "254",
         "WALM049",
         "Sports and travel",
         "7.666666666666667"
        ],
        [
         "255",
         "WALM050",
         "Electronic accessories",
         "5.275"
        ]
       ],
       "shape": {
        "columns": 3,
        "rows": 100
       }
      },
      "text/html": [
       "<div>\n",
       "<style scoped>\n",
       "    .dataframe tbody tr th:only-of-type {\n",
       "        vertical-align: middle;\n",
       "    }\n",
       "\n",
       "    .dataframe tbody tr th {\n",
       "        vertical-align: top;\n",
       "    }\n",
       "\n",
       "    .dataframe thead th {\n",
       "        text-align: right;\n",
       "    }\n",
       "</style>\n",
       "<table border=\"1\" class=\"dataframe\">\n",
       "  <thead>\n",
       "    <tr style=\"text-align: right;\">\n",
       "      <th></th>\n",
       "      <th>Branch</th>\n",
       "      <th>category</th>\n",
       "      <th>average_rating</th>\n",
       "    </tr>\n",
       "  </thead>\n",
       "  <tbody>\n",
       "    <tr>\n",
       "      <th>0</th>\n",
       "      <td>WALM001</td>\n",
       "      <td>Electronic accessories</td>\n",
       "      <td>7.450000</td>\n",
       "    </tr>\n",
       "    <tr>\n",
       "      <th>6</th>\n",
       "      <td>WALM002</td>\n",
       "      <td>Food and beverages</td>\n",
       "      <td>8.250000</td>\n",
       "    </tr>\n",
       "    <tr>\n",
       "      <th>14</th>\n",
       "      <td>WALM003</td>\n",
       "      <td>Sports and travel</td>\n",
       "      <td>7.500000</td>\n",
       "    </tr>\n",
       "    <tr>\n",
       "      <th>17</th>\n",
       "      <td>WALM004</td>\n",
       "      <td>Food and beverages</td>\n",
       "      <td>9.300000</td>\n",
       "    </tr>\n",
       "    <tr>\n",
       "      <th>23</th>\n",
       "      <td>WALM005</td>\n",
       "      <td>Health and beauty</td>\n",
       "      <td>8.366667</td>\n",
       "    </tr>\n",
       "    <tr>\n",
       "      <th>...</th>\n",
       "      <td>...</td>\n",
       "      <td>...</td>\n",
       "      <td>...</td>\n",
       "    </tr>\n",
       "    <tr>\n",
       "      <th>501</th>\n",
       "      <td>WALM096</td>\n",
       "      <td>Sports and travel</td>\n",
       "      <td>9.600000</td>\n",
       "    </tr>\n",
       "    <tr>\n",
       "      <th>504</th>\n",
       "      <td>WALM097</td>\n",
       "      <td>Food and beverages</td>\n",
       "      <td>7.675000</td>\n",
       "    </tr>\n",
       "    <tr>\n",
       "      <th>510</th>\n",
       "      <td>WALM098</td>\n",
       "      <td>Health and beauty</td>\n",
       "      <td>9.800000</td>\n",
       "    </tr>\n",
       "    <tr>\n",
       "      <th>513</th>\n",
       "      <td>WALM099</td>\n",
       "      <td>Electronic accessories</td>\n",
       "      <td>5.950000</td>\n",
       "    </tr>\n",
       "    <tr>\n",
       "      <th>519</th>\n",
       "      <td>WALM100</td>\n",
       "      <td>Health and beauty</td>\n",
       "      <td>6.900000</td>\n",
       "    </tr>\n",
       "  </tbody>\n",
       "</table>\n",
       "<p>100 rows × 3 columns</p>\n",
       "</div>"
      ],
      "text/plain": [
       "      Branch                category  average_rating\n",
       "0    WALM001  Electronic accessories        7.450000\n",
       "6    WALM002      Food and beverages        8.250000\n",
       "14   WALM003       Sports and travel        7.500000\n",
       "17   WALM004      Food and beverages        9.300000\n",
       "23   WALM005       Health and beauty        8.366667\n",
       "..       ...                     ...             ...\n",
       "501  WALM096       Sports and travel        9.600000\n",
       "504  WALM097      Food and beverages        7.675000\n",
       "510  WALM098       Health and beauty        9.800000\n",
       "513  WALM099  Electronic accessories        5.950000\n",
       "519  WALM100       Health and beauty        6.900000\n",
       "\n",
       "[100 rows x 3 columns]"
      ]
     },
     "execution_count": 59,
     "metadata": {},
     "output_type": "execute_result"
    }
   ],
   "source": [
    "#Q2_b) highest-rated category in each\n",
    "q2b = q2a.loc[q2a.groupby('Branch')['average_rating'].idxmax()]\n",
    "q2b"
   ]
  },
  {
   "cell_type": "markdown",
   "metadata": {},
   "source": [
    "#### Question 3"
   ]
  },
  {
   "cell_type": "code",
   "execution_count": 63,
   "metadata": {},
   "outputs": [
    {
     "data": {
      "application/vnd.microsoft.datawrangler.viewer.v0+json": {
       "columns": [
        {
         "name": "index",
         "rawType": "int64",
         "type": "integer"
        },
        {
         "name": "Branch",
         "rawType": "object",
         "type": "string"
        },
        {
         "name": "day",
         "rawType": "object",
         "type": "string"
        },
        {
         "name": "transactions",
         "rawType": "int64",
         "type": "integer"
        }
       ],
       "conversionMethod": "pd.DataFrame",
       "ref": "866d4e6c-34b4-42bc-a13a-755aa2ba417e",
       "rows": [
        [
         "2",
         "WALM001",
         "Saturday",
         "14"
        ],
        [
         "10",
         "WALM002",
         "Sunday",
         "15"
        ],
        [
         "17",
         "WALM003",
         "Sunday",
         "29"
        ],
        [
         "24",
         "WALM004",
         "Sunday",
         "14"
        ],
        [
         "29",
         "WALM005",
         "Monday",
         "16"
        ],
        [
         "40",
         "WALM006",
         "Tuesday",
         "16"
        ],
        [
         "47",
         "WALM007",
         "Tuesday",
         "15"
        ],
        [
         "54",
         "WALM008",
         "Tuesday",
         "14"
        ],
        [
         "61",
         "WALM009",
         "Tuesday",
         "38"
        ],
        [
         "66",
         "WALM010",
         "Sunday",
         "15"
        ],
        [
         "75",
         "WALM011",
         "Tuesday",
         "17"
        ],
        [
         "80",
         "WALM012",
         "Sunday",
         "17"
        ],
        [
         "85",
         "WALM013",
         "Monday",
         "12"
        ],
        [
         "94",
         "WALM014",
         "Sunday",
         "11"
        ],
        [
         "98",
         "WALM015",
         "Friday",
         "20"
        ],
        [
         "105",
         "WALM016",
         "Friday",
         "14"
        ],
        [
         "116",
         "WALM017",
         "Thursday",
         "19"
        ],
        [
         "122",
         "WALM018",
         "Sunday",
         "13"
        ],
        [
         "132",
         "WALM019",
         "Wednesday",
         "13"
        ],
        [
         "135",
         "WALM020",
         "Saturday",
         "15"
        ],
        [
         "145",
         "WALM021",
         "Tuesday",
         "14"
        ],
        [
         "147",
         "WALM022",
         "Friday",
         "14"
        ],
        [
         "155",
         "WALM023",
         "Monday",
         "13"
        ],
        [
         "162",
         "WALM024",
         "Monday",
         "14"
        ],
        [
         "173",
         "WALM025",
         "Tuesday",
         "31"
        ],
        [
         "178",
         "WALM026",
         "Sunday",
         "14"
        ],
        [
         "186",
         "WALM027",
         "Thursday",
         "15"
        ],
        [
         "191",
         "WALM028",
         "Saturday",
         "18"
        ],
        [
         "201",
         "WALM029",
         "Tuesday",
         "33"
        ],
        [
         "209",
         "WALM030",
         "Wednesday",
         "41"
        ],
        [
         "210",
         "WALM031",
         "Friday",
         "10"
        ],
        [
         "219",
         "WALM032",
         "Saturday",
         "31"
        ],
        [
         "228",
         "WALM033",
         "Thursday",
         "11"
        ],
        [
         "233",
         "WALM034",
         "Saturday",
         "14"
        ],
        [
         "240",
         "WALM035",
         "Saturday",
         "33"
        ],
        [
         "248",
         "WALM036",
         "Sunday",
         "18"
        ],
        [
         "257",
         "WALM037",
         "Tuesday",
         "14"
        ],
        [
         "262",
         "WALM038",
         "Sunday",
         "35"
        ],
        [
         "267",
         "WALM039",
         "Monday",
         "11"
        ],
        [
         "278",
         "WALM040",
         "Tuesday",
         "15"
        ],
        [
         "280",
         "WALM041",
         "Friday",
         "18"
        ],
        [
         "293",
         "WALM042",
         "Wednesday",
         "13"
        ],
        [
         "296",
         "WALM043",
         "Saturday",
         "13"
        ],
        [
         "304",
         "WALM044",
         "Sunday",
         "16"
        ],
        [
         "314",
         "WALM045",
         "Wednesday",
         "11"
        ],
        [
         "321",
         "WALM046",
         "Wednesday",
         "34"
        ],
        [
         "324",
         "WALM047",
         "Saturday",
         "16"
        ],
        [
         "330",
         "WALM048",
         "Monday",
         "17"
        ],
        [
         "342",
         "WALM049",
         "Wednesday",
         "13"
        ],
        [
         "346",
         "WALM050",
         "Sunday",
         "29"
        ]
       ],
       "shape": {
        "columns": 3,
        "rows": 100
       }
      },
      "text/html": [
       "<div>\n",
       "<style scoped>\n",
       "    .dataframe tbody tr th:only-of-type {\n",
       "        vertical-align: middle;\n",
       "    }\n",
       "\n",
       "    .dataframe tbody tr th {\n",
       "        vertical-align: top;\n",
       "    }\n",
       "\n",
       "    .dataframe thead th {\n",
       "        text-align: right;\n",
       "    }\n",
       "</style>\n",
       "<table border=\"1\" class=\"dataframe\">\n",
       "  <thead>\n",
       "    <tr style=\"text-align: right;\">\n",
       "      <th></th>\n",
       "      <th>Branch</th>\n",
       "      <th>day</th>\n",
       "      <th>transactions</th>\n",
       "    </tr>\n",
       "  </thead>\n",
       "  <tbody>\n",
       "    <tr>\n",
       "      <th>2</th>\n",
       "      <td>WALM001</td>\n",
       "      <td>Saturday</td>\n",
       "      <td>14</td>\n",
       "    </tr>\n",
       "    <tr>\n",
       "      <th>10</th>\n",
       "      <td>WALM002</td>\n",
       "      <td>Sunday</td>\n",
       "      <td>15</td>\n",
       "    </tr>\n",
       "    <tr>\n",
       "      <th>17</th>\n",
       "      <td>WALM003</td>\n",
       "      <td>Sunday</td>\n",
       "      <td>29</td>\n",
       "    </tr>\n",
       "    <tr>\n",
       "      <th>24</th>\n",
       "      <td>WALM004</td>\n",
       "      <td>Sunday</td>\n",
       "      <td>14</td>\n",
       "    </tr>\n",
       "    <tr>\n",
       "      <th>29</th>\n",
       "      <td>WALM005</td>\n",
       "      <td>Monday</td>\n",
       "      <td>16</td>\n",
       "    </tr>\n",
       "    <tr>\n",
       "      <th>...</th>\n",
       "      <td>...</td>\n",
       "      <td>...</td>\n",
       "      <td>...</td>\n",
       "    </tr>\n",
       "    <tr>\n",
       "      <th>670</th>\n",
       "      <td>WALM096</td>\n",
       "      <td>Tuesday</td>\n",
       "      <td>15</td>\n",
       "    </tr>\n",
       "    <tr>\n",
       "      <th>672</th>\n",
       "      <td>WALM097</td>\n",
       "      <td>Friday</td>\n",
       "      <td>14</td>\n",
       "    </tr>\n",
       "    <tr>\n",
       "      <th>680</th>\n",
       "      <td>WALM098</td>\n",
       "      <td>Monday</td>\n",
       "      <td>14</td>\n",
       "    </tr>\n",
       "    <tr>\n",
       "      <th>689</th>\n",
       "      <td>WALM099</td>\n",
       "      <td>Sunday</td>\n",
       "      <td>33</td>\n",
       "    </tr>\n",
       "    <tr>\n",
       "      <th>697</th>\n",
       "      <td>WALM100</td>\n",
       "      <td>Thursday</td>\n",
       "      <td>12</td>\n",
       "    </tr>\n",
       "  </tbody>\n",
       "</table>\n",
       "<p>100 rows × 3 columns</p>\n",
       "</div>"
      ],
      "text/plain": [
       "      Branch       day  transactions\n",
       "2    WALM001  Saturday            14\n",
       "10   WALM002    Sunday            15\n",
       "17   WALM003    Sunday            29\n",
       "24   WALM004    Sunday            14\n",
       "29   WALM005    Monday            16\n",
       "..       ...       ...           ...\n",
       "670  WALM096   Tuesday            15\n",
       "672  WALM097    Friday            14\n",
       "680  WALM098    Monday            14\n",
       "689  WALM099    Sunday            33\n",
       "697  WALM100  Thursday            12\n",
       "\n",
       "[100 rows x 3 columns]"
      ]
     },
     "execution_count": 63,
     "metadata": {},
     "output_type": "execute_result"
    }
   ],
   "source": [
    "#Q3.\n",
    "  #a) Identify the busiest day for each branch based on the number of transactions\n",
    "  #b) Identify the busiest month for each branch based on the number of transactions\n",
    "\n",
    "\n",
    "df_clean['day'] = df_clean['date'].dt.day_name()\n",
    "\n",
    "q3a = df_clean.groupby(['Branch','day']).agg(\n",
    "    transactions = ('invoice_id','count')\n",
    ").reset_index()\n",
    "\n",
    "q3a = q3a.loc[q3a.groupby('Branch')['transactions'].idxmax()]\n",
    "q3a"
   ]
  },
  {
   "cell_type": "markdown",
   "metadata": {},
   "source": [
    "#### Question 4"
   ]
  },
  {
   "cell_type": "code",
   "execution_count": 64,
   "metadata": {},
   "outputs": [
    {
     "data": {
      "application/vnd.microsoft.datawrangler.viewer.v0+json": {
       "columns": [
        {
         "name": "index",
         "rawType": "int64",
         "type": "integer"
        },
        {
         "name": "payment_method",
         "rawType": "object",
         "type": "string"
        },
        {
         "name": "quantity",
         "rawType": "float64",
         "type": "float"
        }
       ],
       "conversionMethod": "pd.DataFrame",
       "ref": "c93ded04-df63-44c2-99f5-ea42433e4f77",
       "rows": [
        [
         "1",
         "Credit card",
         "9567.0"
        ],
        [
         "2",
         "Ewallet",
         "8932.0"
        ],
        [
         "0",
         "Cash",
         "4984.0"
        ]
       ],
       "shape": {
        "columns": 2,
        "rows": 3
       }
      },
      "text/html": [
       "<div>\n",
       "<style scoped>\n",
       "    .dataframe tbody tr th:only-of-type {\n",
       "        vertical-align: middle;\n",
       "    }\n",
       "\n",
       "    .dataframe tbody tr th {\n",
       "        vertical-align: top;\n",
       "    }\n",
       "\n",
       "    .dataframe thead th {\n",
       "        text-align: right;\n",
       "    }\n",
       "</style>\n",
       "<table border=\"1\" class=\"dataframe\">\n",
       "  <thead>\n",
       "    <tr style=\"text-align: right;\">\n",
       "      <th></th>\n",
       "      <th>payment_method</th>\n",
       "      <th>quantity</th>\n",
       "    </tr>\n",
       "  </thead>\n",
       "  <tbody>\n",
       "    <tr>\n",
       "      <th>1</th>\n",
       "      <td>Credit card</td>\n",
       "      <td>9567.0</td>\n",
       "    </tr>\n",
       "    <tr>\n",
       "      <th>2</th>\n",
       "      <td>Ewallet</td>\n",
       "      <td>8932.0</td>\n",
       "    </tr>\n",
       "    <tr>\n",
       "      <th>0</th>\n",
       "      <td>Cash</td>\n",
       "      <td>4984.0</td>\n",
       "    </tr>\n",
       "  </tbody>\n",
       "</table>\n",
       "</div>"
      ],
      "text/plain": [
       "  payment_method  quantity\n",
       "1    Credit card    9567.0\n",
       "2        Ewallet    8932.0\n",
       "0           Cash    4984.0"
      ]
     },
     "execution_count": 64,
     "metadata": {},
     "output_type": "execute_result"
    }
   ],
   "source": [
    "#Q4 Calculate the total quantity of items sold per payment method\n",
    "\n",
    "q4 = df_clean.groupby('payment_method').agg(\n",
    "    quantity = ('quantity','sum')\n",
    ").reset_index().sort_values(by='quantity', ascending=False)\n",
    "q4"
   ]
  },
  {
   "cell_type": "markdown",
   "metadata": {},
   "source": [
    "#### Question 5"
   ]
  },
  {
   "cell_type": "code",
   "execution_count": 65,
   "metadata": {},
   "outputs": [
    {
     "data": {
      "application/vnd.microsoft.datawrangler.viewer.v0+json": {
       "columns": [
        {
         "name": "index",
         "rawType": "int64",
         "type": "integer"
        },
        {
         "name": "City",
         "rawType": "object",
         "type": "string"
        },
        {
         "name": "avg_rating",
         "rawType": "float64",
         "type": "float"
        },
        {
         "name": "max_rating",
         "rawType": "float64",
         "type": "float"
        },
        {
         "name": "min_rating",
         "rawType": "float64",
         "type": "float"
        }
       ],
       "conversionMethod": "pd.DataFrame",
       "ref": "0e91c1bd-c021-48c1-a100-6586fb640580",
       "rows": [
        [
         "7",
         "Austin",
         "7.001666666666667",
         "9.3",
         "4.0"
        ],
        [
         "44",
         "Huntsville",
         "6.812162162162163",
         "9.7",
         "4.0"
        ],
        [
         "73",
         "Pflugerville",
         "6.732911392405063",
         "9.9",
         "3.0"
        ],
        [
         "26",
         "Denton",
         "6.678082191780822",
         "9.2",
         "3.0"
        ],
        [
         "19",
         "College Station",
         "6.671428571428572",
         "10.0",
         "4.0"
        ],
        [
         "52",
         "Laredo",
         "6.643939393939394",
         "9.6",
         "3.0"
        ],
        [
         "13",
         "Bryan",
         "6.609375",
         "10.0",
         "4.0"
        ],
        [
         "1",
         "Alamo",
         "6.595588235294118",
         "10.0",
         "3.0"
        ],
        [
         "11",
         "Brownsville",
         "6.588571428571428",
         "9.5",
         "3.0"
        ],
        [
         "33",
         "Fort Worth",
         "6.582142857142857",
         "9.9",
         "3.0"
        ],
        [
         "17",
         "Cedar Park",
         "6.569565217391305",
         "9.9",
         "3.0"
        ],
        [
         "21",
         "Coppell",
         "6.569230769230769",
         "9.6",
         "3.0"
        ],
        [
         "35",
         "Frisco",
         "6.559375",
         "9.7",
         "3.0"
        ],
        [
         "48",
         "Killeen",
         "6.546052631578948",
         "9.8",
         "3.0"
        ],
        [
         "47",
         "Kerrville",
         "6.545333333333333",
         "9.0",
         "3.0"
        ],
        [
         "4",
         "Amarillo",
         "6.542307692307692",
         "9.0",
         "3.0"
        ],
        [
         "71",
         "Pasadena",
         "6.538028169014084",
         "9.3",
         "3.0"
        ],
        [
         "50",
         "Lake Jackson",
         "6.527450980392157",
         "9.0",
         "4.0"
        ],
        [
         "42",
         "Harlingen",
         "6.506329113924051",
         "9.6",
         "3.0"
        ],
        [
         "12",
         "Brownwood",
         "6.492105263157894",
         "9.9",
         "3.0"
        ],
        [
         "32",
         "Flower Mound",
         "6.469135802469136",
         "9.8",
         "4.0"
        ],
        [
         "18",
         "Cleburne",
         "6.468354430379747",
         "9.6",
         "3.0"
        ],
        [
         "56",
         "Longview",
         "6.450847457627119",
         "9.9",
         "4.0"
        ],
        [
         "10",
         "Big Spring",
         "6.449397590361445",
         "9.0",
         "3.0"
        ],
        [
         "63",
         "Midland",
         "6.421428571428572",
         "9.7",
         "3.0"
        ],
        [
         "28",
         "Edinburg",
         "6.415942028985507",
         "9.8",
         "3.0"
        ],
        [
         "45",
         "Hurst",
         "6.404411764705882",
         "9.1",
         "3.0"
        ],
        [
         "20",
         "Conroe",
         "6.398648648648648",
         "9.2",
         "3.0"
        ],
        [
         "59",
         "Mansfield",
         "6.397468354430379",
         "9.1",
         "3.0"
        ],
        [
         "67",
         "Nacogdoches",
         "6.397333333333333",
         "9.1",
         "3.0"
        ],
        [
         "37",
         "Garland",
         "6.39625",
         "9.9",
         "3.0"
        ],
        [
         "3",
         "Allen",
         "6.389041095890411",
         "9.0",
         "3.0"
        ],
        [
         "22",
         "Corpus Christi",
         "6.388235294117647",
         "9.7",
         "3.0"
        ],
        [
         "41",
         "Haltom City",
         "6.382191780821917",
         "9.9",
         "3.0"
        ],
        [
         "34",
         "Friendswood",
         "6.366176470588235",
         "9.5",
         "3.0"
        ],
        [
         "5",
         "Angleton",
         "6.361194029850746",
         "10.0",
         "3.0"
        ],
        [
         "29",
         "El Paso",
         "6.3366197183098585",
         "9.8",
         "3.0"
        ],
        [
         "0",
         "Abilene",
         "6.336111111111111",
         "9.7",
         "4.0"
        ],
        [
         "9",
         "Bedford",
         "6.33125",
         "9.3",
         "3.0"
        ],
        [
         "14",
         "Burleson",
         "6.322033898305085",
         "9.7",
         "3.0"
        ],
        [
         "64",
         "Mineral Wells",
         "6.315384615384615",
         "9.8",
         "3.0"
        ],
        [
         "58",
         "Lufkin",
         "6.311594202898551",
         "9.9",
         "3.0"
        ],
        [
         "38",
         "Georgetown",
         "6.3049382716049385",
         "9.8",
         "3.0"
        ],
        [
         "43",
         "Houston",
         "6.3",
         "9.5",
         "3.0"
        ],
        [
         "40",
         "Grapevine",
         "6.294666666666667",
         "9.0",
         "3.0"
        ],
        [
         "30",
         "Euless",
         "6.294366197183098",
         "9.0",
         "3.0"
        ],
        [
         "46",
         "Irving",
         "6.291228070175439",
         "9.8",
         "3.0"
        ],
        [
         "53",
         "League City",
         "6.287878787878788",
         "10.0",
         "3.0"
        ],
        [
         "16",
         "Carrollton",
         "6.283076923076923",
         "9.0",
         "3.0"
        ],
        [
         "68",
         "New Braunfels",
         "6.269117647058824",
         "9.6",
         "3.0"
        ]
       ],
       "shape": {
        "columns": 4,
        "rows": 98
       }
      },
      "text/html": [
       "<div>\n",
       "<style scoped>\n",
       "    .dataframe tbody tr th:only-of-type {\n",
       "        vertical-align: middle;\n",
       "    }\n",
       "\n",
       "    .dataframe tbody tr th {\n",
       "        vertical-align: top;\n",
       "    }\n",
       "\n",
       "    .dataframe thead th {\n",
       "        text-align: right;\n",
       "    }\n",
       "</style>\n",
       "<table border=\"1\" class=\"dataframe\">\n",
       "  <thead>\n",
       "    <tr style=\"text-align: right;\">\n",
       "      <th></th>\n",
       "      <th>City</th>\n",
       "      <th>avg_rating</th>\n",
       "      <th>max_rating</th>\n",
       "      <th>min_rating</th>\n",
       "    </tr>\n",
       "  </thead>\n",
       "  <tbody>\n",
       "    <tr>\n",
       "      <th>7</th>\n",
       "      <td>Austin</td>\n",
       "      <td>7.001667</td>\n",
       "      <td>9.3</td>\n",
       "      <td>4.0</td>\n",
       "    </tr>\n",
       "    <tr>\n",
       "      <th>44</th>\n",
       "      <td>Huntsville</td>\n",
       "      <td>6.812162</td>\n",
       "      <td>9.7</td>\n",
       "      <td>4.0</td>\n",
       "    </tr>\n",
       "    <tr>\n",
       "      <th>73</th>\n",
       "      <td>Pflugerville</td>\n",
       "      <td>6.732911</td>\n",
       "      <td>9.9</td>\n",
       "      <td>3.0</td>\n",
       "    </tr>\n",
       "    <tr>\n",
       "      <th>26</th>\n",
       "      <td>Denton</td>\n",
       "      <td>6.678082</td>\n",
       "      <td>9.2</td>\n",
       "      <td>3.0</td>\n",
       "    </tr>\n",
       "    <tr>\n",
       "      <th>19</th>\n",
       "      <td>College Station</td>\n",
       "      <td>6.671429</td>\n",
       "      <td>10.0</td>\n",
       "      <td>4.0</td>\n",
       "    </tr>\n",
       "    <tr>\n",
       "      <th>...</th>\n",
       "      <td>...</td>\n",
       "      <td>...</td>\n",
       "      <td>...</td>\n",
       "      <td>...</td>\n",
       "    </tr>\n",
       "    <tr>\n",
       "      <th>96</th>\n",
       "      <td>Weatherford</td>\n",
       "      <td>5.084242</td>\n",
       "      <td>9.0</td>\n",
       "      <td>3.0</td>\n",
       "    </tr>\n",
       "    <tr>\n",
       "      <th>84</th>\n",
       "      <td>San Marcos</td>\n",
       "      <td>5.076064</td>\n",
       "      <td>8.9</td>\n",
       "      <td>3.0</td>\n",
       "    </tr>\n",
       "    <tr>\n",
       "      <th>87</th>\n",
       "      <td>Sherman</td>\n",
       "      <td>5.064571</td>\n",
       "      <td>9.2</td>\n",
       "      <td>3.0</td>\n",
       "    </tr>\n",
       "    <tr>\n",
       "      <th>91</th>\n",
       "      <td>Texas City</td>\n",
       "      <td>5.042045</td>\n",
       "      <td>8.6</td>\n",
       "      <td>3.0</td>\n",
       "    </tr>\n",
       "    <tr>\n",
       "      <th>81</th>\n",
       "      <td>Rowlett</td>\n",
       "      <td>4.989349</td>\n",
       "      <td>9.8</td>\n",
       "      <td>3.0</td>\n",
       "    </tr>\n",
       "  </tbody>\n",
       "</table>\n",
       "<p>98 rows × 4 columns</p>\n",
       "</div>"
      ],
      "text/plain": [
       "               City  avg_rating  max_rating  min_rating\n",
       "7            Austin    7.001667         9.3         4.0\n",
       "44       Huntsville    6.812162         9.7         4.0\n",
       "73     Pflugerville    6.732911         9.9         3.0\n",
       "26           Denton    6.678082         9.2         3.0\n",
       "19  College Station    6.671429        10.0         4.0\n",
       "..              ...         ...         ...         ...\n",
       "96      Weatherford    5.084242         9.0         3.0\n",
       "84       San Marcos    5.076064         8.9         3.0\n",
       "87          Sherman    5.064571         9.2         3.0\n",
       "91       Texas City    5.042045         8.6         3.0\n",
       "81          Rowlett    4.989349         9.8         3.0\n",
       "\n",
       "[98 rows x 4 columns]"
      ]
     },
     "execution_count": 65,
     "metadata": {},
     "output_type": "execute_result"
    }
   ],
   "source": [
    "#Q5 Determine the average, minimum and maximum rating of products for each city\n",
    "q5 = df_clean.groupby('City').agg(\n",
    "    avg_rating = ('rating', 'mean'),\n",
    "    max_rating = ('rating', 'max'),\n",
    "    min_rating = ('rating', 'min')\n",
    ").reset_index().sort_values(by='avg_rating', ascending=False)\n",
    "q5"
   ]
  },
  {
   "cell_type": "markdown",
   "metadata": {},
   "source": []
  },
  {
   "cell_type": "markdown",
   "metadata": {},
   "source": [
    "#### Question 6"
   ]
  },
  {
   "cell_type": "code",
   "execution_count": 66,
   "metadata": {},
   "outputs": [
    {
     "data": {
      "application/vnd.microsoft.datawrangler.viewer.v0+json": {
       "columns": [
        {
         "name": "index",
         "rawType": "int64",
         "type": "integer"
        },
        {
         "name": "City",
         "rawType": "object",
         "type": "string"
        },
        {
         "name": "avg_profit_margin",
         "rawType": "float64",
         "type": "float"
        }
       ],
       "conversionMethod": "pd.DataFrame",
       "ref": "e4fc77b5-8158-4809-b108-892019a303c6",
       "rows": [
        [
         "59",
         "Mansfield",
         "57.0"
        ],
        [
         "68",
         "New Braunfels",
         "51.57"
        ],
        [
         "32",
         "Flower Mound",
         "48.0"
        ],
        [
         "4",
         "Amarillo",
         "48.0"
        ],
        [
         "7",
         "Austin",
         "48.0"
        ],
        [
         "6",
         "Arlington",
         "48.0"
        ],
        [
         "8",
         "Baytown",
         "48.0"
        ],
        [
         "16",
         "Carrollton",
         "48.0"
        ],
        [
         "13",
         "Bryan",
         "48.0"
        ],
        [
         "11",
         "Brownsville",
         "48.0"
        ],
        [
         "22",
         "Corpus Christi",
         "48.0"
        ],
        [
         "26",
         "Denton",
         "48.0"
        ],
        [
         "29",
         "El Paso",
         "48.0"
        ],
        [
         "33",
         "Fort Worth",
         "48.0"
        ],
        [
         "19",
         "College Station",
         "48.0"
        ],
        [
         "28",
         "Edinburg",
         "48.0"
        ],
        [
         "89",
         "Sugar Land",
         "48.0"
        ],
        [
         "62",
         "Mesquite",
         "48.0"
        ],
        [
         "42",
         "Harlingen",
         "48.0"
        ],
        [
         "53",
         "League City",
         "48.0"
        ],
        [
         "56",
         "Longview",
         "48.0"
        ],
        [
         "52",
         "Laredo",
         "48.0"
        ],
        [
         "57",
         "Lubbock",
         "48.0"
        ],
        [
         "61",
         "McKinney",
         "48.0"
        ],
        [
         "60",
         "McAllen",
         "48.0"
        ],
        [
         "54",
         "Lewisville",
         "48.0"
        ],
        [
         "37",
         "Garland",
         "48.0"
        ],
        [
         "63",
         "Midland",
         "48.0"
        ],
        [
         "48",
         "Killeen",
         "48.0"
        ],
        [
         "46",
         "Irving",
         "48.0"
        ],
        [
         "35",
         "Frisco",
         "48.0"
        ],
        [
         "39",
         "Grand Prairie",
         "48.0"
        ],
        [
         "0",
         "Abilene",
         "48.0"
        ],
        [
         "3",
         "Allen",
         "48.0"
        ],
        [
         "82",
         "San Angelo",
         "48.0"
        ],
        [
         "75",
         "Plano",
         "48.0"
        ],
        [
         "92",
         "Tyler",
         "48.0"
        ],
        [
         "90",
         "Temple",
         "48.0"
        ],
        [
         "94",
         "Waco",
         "48.0"
        ],
        [
         "93",
         "Victoria",
         "48.0"
        ],
        [
         "80",
         "Round Rock",
         "48.0"
        ],
        [
         "77",
         "Richardson",
         "48.0"
        ],
        [
         "74",
         "Pharr",
         "48.0"
        ],
        [
         "69",
         "North Richland Hills",
         "48.0"
        ],
        [
         "71",
         "Pasadena",
         "48.0"
        ],
        [
         "72",
         "Pearland",
         "48.0"
        ],
        [
         "70",
         "Odessa",
         "48.0"
        ],
        [
         "65",
         "Mission",
         "48.0"
        ],
        [
         "66",
         "Missouri City",
         "48.0"
        ],
        [
         "83",
         "San Antonio",
         "46.32"
        ]
       ],
       "shape": {
        "columns": 2,
        "rows": 98
       }
      },
      "text/html": [
       "<div>\n",
       "<style scoped>\n",
       "    .dataframe tbody tr th:only-of-type {\n",
       "        vertical-align: middle;\n",
       "    }\n",
       "\n",
       "    .dataframe tbody tr th {\n",
       "        vertical-align: top;\n",
       "    }\n",
       "\n",
       "    .dataframe thead th {\n",
       "        text-align: right;\n",
       "    }\n",
       "</style>\n",
       "<table border=\"1\" class=\"dataframe\">\n",
       "  <thead>\n",
       "    <tr style=\"text-align: right;\">\n",
       "      <th></th>\n",
       "      <th>City</th>\n",
       "      <th>avg_profit_margin</th>\n",
       "    </tr>\n",
       "  </thead>\n",
       "  <tbody>\n",
       "    <tr>\n",
       "      <th>59</th>\n",
       "      <td>Mansfield</td>\n",
       "      <td>57.00</td>\n",
       "    </tr>\n",
       "    <tr>\n",
       "      <th>68</th>\n",
       "      <td>New Braunfels</td>\n",
       "      <td>51.57</td>\n",
       "    </tr>\n",
       "    <tr>\n",
       "      <th>32</th>\n",
       "      <td>Flower Mound</td>\n",
       "      <td>48.00</td>\n",
       "    </tr>\n",
       "    <tr>\n",
       "      <th>4</th>\n",
       "      <td>Amarillo</td>\n",
       "      <td>48.00</td>\n",
       "    </tr>\n",
       "    <tr>\n",
       "      <th>7</th>\n",
       "      <td>Austin</td>\n",
       "      <td>48.00</td>\n",
       "    </tr>\n",
       "    <tr>\n",
       "      <th>...</th>\n",
       "      <td>...</td>\n",
       "      <td>...</td>\n",
       "    </tr>\n",
       "    <tr>\n",
       "      <th>27</th>\n",
       "      <td>Eagle Pass</td>\n",
       "      <td>21.80</td>\n",
       "    </tr>\n",
       "    <tr>\n",
       "      <th>2</th>\n",
       "      <td>Alice</td>\n",
       "      <td>18.00</td>\n",
       "    </tr>\n",
       "    <tr>\n",
       "      <th>15</th>\n",
       "      <td>Canyon</td>\n",
       "      <td>18.00</td>\n",
       "    </tr>\n",
       "    <tr>\n",
       "      <th>64</th>\n",
       "      <td>Mineral Wells</td>\n",
       "      <td>18.00</td>\n",
       "    </tr>\n",
       "    <tr>\n",
       "      <th>96</th>\n",
       "      <td>Weatherford</td>\n",
       "      <td>18.00</td>\n",
       "    </tr>\n",
       "  </tbody>\n",
       "</table>\n",
       "<p>98 rows × 2 columns</p>\n",
       "</div>"
      ],
      "text/plain": [
       "             City  avg_profit_margin\n",
       "59      Mansfield              57.00\n",
       "68  New Braunfels              51.57\n",
       "32   Flower Mound              48.00\n",
       "4        Amarillo              48.00\n",
       "7          Austin              48.00\n",
       "..            ...                ...\n",
       "27     Eagle Pass              21.80\n",
       "2           Alice              18.00\n",
       "15         Canyon              18.00\n",
       "64  Mineral Wells              18.00\n",
       "96    Weatherford              18.00\n",
       "\n",
       "[98 rows x 2 columns]"
      ]
     },
     "execution_count": 66,
     "metadata": {},
     "output_type": "execute_result"
    }
   ],
   "source": [
    "#Q6 Determine the average profit margin (%) with respect to each city\n",
    "q6 = df_clean.groupby('City').agg(\n",
    "    avg_profit_margin = ('profit_margin', lambda x: round(x.mean()*100,2))\n",
    ").reset_index().sort_values(by='avg_profit_margin', ascending=False)\n",
    "q6\n",
    "\n",
    "# EXTRA\n",
    "#Determine the revenue with respect to each city\n",
    "#Determine the profit with respect to each city"
   ]
  },
  {
   "cell_type": "markdown",
   "metadata": {},
   "source": [
    "#### Question 7"
   ]
  },
  {
   "cell_type": "code",
   "execution_count": 67,
   "metadata": {},
   "outputs": [
    {
     "data": {
      "application/vnd.microsoft.datawrangler.viewer.v0+json": {
       "columns": [
        {
         "name": "index",
         "rawType": "int64",
         "type": "integer"
        },
        {
         "name": "Branch",
         "rawType": "object",
         "type": "string"
        },
        {
         "name": "payment_method",
         "rawType": "object",
         "type": "string"
        },
        {
         "name": "preferred_payment_method",
         "rawType": "int64",
         "type": "integer"
        }
       ],
       "conversionMethod": "pd.DataFrame",
       "ref": "5a3e1642-01a4-4612-ad03-b50663eafee5",
       "rows": [
        [
         "1",
         "WALM001",
         "Ewallet",
         "45"
        ],
        [
         "4",
         "WALM002",
         "Ewallet",
         "37"
        ],
        [
         "6",
         "WALM003",
         "Credit card",
         "115"
        ],
        [
         "10",
         "WALM004",
         "Ewallet",
         "44"
        ],
        [
         "13",
         "WALM005",
         "Ewallet",
         "56"
        ],
        [
         "16",
         "WALM006",
         "Ewallet",
         "50"
        ],
        [
         "19",
         "WALM007",
         "Ewallet",
         "52"
        ],
        [
         "22",
         "WALM008",
         "Ewallet",
         "39"
        ],
        [
         "24",
         "WALM009",
         "Credit card",
         "139"
        ],
        [
         "28",
         "WALM010",
         "Ewallet",
         "47"
        ],
        [
         "31",
         "WALM011",
         "Ewallet",
         "39"
        ],
        [
         "34",
         "WALM012",
         "Ewallet",
         "52"
        ],
        [
         "37",
         "WALM013",
         "Ewallet",
         "44"
        ],
        [
         "40",
         "WALM014",
         "Ewallet",
         "28"
        ],
        [
         "43",
         "WALM015",
         "Ewallet",
         "57"
        ],
        [
         "46",
         "WALM016",
         "Ewallet",
         "46"
        ],
        [
         "49",
         "WALM017",
         "Ewallet",
         "46"
        ],
        [
         "52",
         "WALM018",
         "Ewallet",
         "46"
        ],
        [
         "55",
         "WALM019",
         "Ewallet",
         "42"
        ],
        [
         "58",
         "WALM020",
         "Ewallet",
         "49"
        ],
        [
         "61",
         "WALM021",
         "Ewallet",
         "42"
        ],
        [
         "64",
         "WALM022",
         "Ewallet",
         "46"
        ],
        [
         "67",
         "WALM023",
         "Ewallet",
         "39"
        ],
        [
         "69",
         "WALM024",
         "Ewallet",
         "50"
        ],
        [
         "71",
         "WALM025",
         "Credit card",
         "88"
        ],
        [
         "75",
         "WALM026",
         "Ewallet",
         "45"
        ],
        [
         "78",
         "WALM027",
         "Ewallet",
         "50"
        ],
        [
         "81",
         "WALM028",
         "Ewallet",
         "47"
        ],
        [
         "83",
         "WALM029",
         "Credit card",
         "113"
        ],
        [
         "86",
         "WALM030",
         "Credit card",
         "120"
        ],
        [
         "90",
         "WALM031",
         "Ewallet",
         "34"
        ],
        [
         "92",
         "WALM032",
         "Credit card",
         "107"
        ],
        [
         "96",
         "WALM033",
         "Ewallet",
         "39"
        ],
        [
         "99",
         "WALM034",
         "Ewallet",
         "37"
        ],
        [
         "101",
         "WALM035",
         "Credit card",
         "97"
        ],
        [
         "105",
         "WALM036",
         "Ewallet",
         "49"
        ],
        [
         "108",
         "WALM037",
         "Ewallet",
         "44"
        ],
        [
         "110",
         "WALM038",
         "Credit card",
         "111"
        ],
        [
         "114",
         "WALM039",
         "Ewallet",
         "41"
        ],
        [
         "117",
         "WALM040",
         "Ewallet",
         "45"
        ],
        [
         "119",
         "WALM041",
         "Ewallet",
         "59"
        ],
        [
         "122",
         "WALM042",
         "Ewallet",
         "36"
        ],
        [
         "125",
         "WALM043",
         "Ewallet",
         "58"
        ],
        [
         "128",
         "WALM044",
         "Ewallet",
         "48"
        ],
        [
         "129",
         "WALM045",
         "Credit card",
         "64"
        ],
        [
         "132",
         "WALM046",
         "Credit card",
         "117"
        ],
        [
         "136",
         "WALM047",
         "Ewallet",
         "57"
        ],
        [
         "139",
         "WALM048",
         "Ewallet",
         "44"
        ],
        [
         "142",
         "WALM049",
         "Ewallet",
         "45"
        ],
        [
         "144",
         "WALM050",
         "Ewallet",
         "108"
        ]
       ],
       "shape": {
        "columns": 3,
        "rows": 100
       }
      },
      "text/html": [
       "<div>\n",
       "<style scoped>\n",
       "    .dataframe tbody tr th:only-of-type {\n",
       "        vertical-align: middle;\n",
       "    }\n",
       "\n",
       "    .dataframe tbody tr th {\n",
       "        vertical-align: top;\n",
       "    }\n",
       "\n",
       "    .dataframe thead th {\n",
       "        text-align: right;\n",
       "    }\n",
       "</style>\n",
       "<table border=\"1\" class=\"dataframe\">\n",
       "  <thead>\n",
       "    <tr style=\"text-align: right;\">\n",
       "      <th></th>\n",
       "      <th>Branch</th>\n",
       "      <th>payment_method</th>\n",
       "      <th>preferred_payment_method</th>\n",
       "    </tr>\n",
       "  </thead>\n",
       "  <tbody>\n",
       "    <tr>\n",
       "      <th>1</th>\n",
       "      <td>WALM001</td>\n",
       "      <td>Ewallet</td>\n",
       "      <td>45</td>\n",
       "    </tr>\n",
       "    <tr>\n",
       "      <th>4</th>\n",
       "      <td>WALM002</td>\n",
       "      <td>Ewallet</td>\n",
       "      <td>37</td>\n",
       "    </tr>\n",
       "    <tr>\n",
       "      <th>6</th>\n",
       "      <td>WALM003</td>\n",
       "      <td>Credit card</td>\n",
       "      <td>115</td>\n",
       "    </tr>\n",
       "    <tr>\n",
       "      <th>10</th>\n",
       "      <td>WALM004</td>\n",
       "      <td>Ewallet</td>\n",
       "      <td>44</td>\n",
       "    </tr>\n",
       "    <tr>\n",
       "      <th>13</th>\n",
       "      <td>WALM005</td>\n",
       "      <td>Ewallet</td>\n",
       "      <td>56</td>\n",
       "    </tr>\n",
       "    <tr>\n",
       "      <th>...</th>\n",
       "      <td>...</td>\n",
       "      <td>...</td>\n",
       "      <td>...</td>\n",
       "    </tr>\n",
       "    <tr>\n",
       "      <th>279</th>\n",
       "      <td>WALM096</td>\n",
       "      <td>Ewallet</td>\n",
       "      <td>50</td>\n",
       "    </tr>\n",
       "    <tr>\n",
       "      <th>282</th>\n",
       "      <td>WALM097</td>\n",
       "      <td>Ewallet</td>\n",
       "      <td>38</td>\n",
       "    </tr>\n",
       "    <tr>\n",
       "      <th>285</th>\n",
       "      <td>WALM098</td>\n",
       "      <td>Ewallet</td>\n",
       "      <td>44</td>\n",
       "    </tr>\n",
       "    <tr>\n",
       "      <th>287</th>\n",
       "      <td>WALM099</td>\n",
       "      <td>Credit card</td>\n",
       "      <td>83</td>\n",
       "    </tr>\n",
       "    <tr>\n",
       "      <th>291</th>\n",
       "      <td>WALM100</td>\n",
       "      <td>Ewallet</td>\n",
       "      <td>42</td>\n",
       "    </tr>\n",
       "  </tbody>\n",
       "</table>\n",
       "<p>100 rows × 3 columns</p>\n",
       "</div>"
      ],
      "text/plain": [
       "      Branch payment_method  preferred_payment_method\n",
       "1    WALM001        Ewallet                        45\n",
       "4    WALM002        Ewallet                        37\n",
       "6    WALM003    Credit card                       115\n",
       "10   WALM004        Ewallet                        44\n",
       "13   WALM005        Ewallet                        56\n",
       "..       ...            ...                       ...\n",
       "279  WALM096        Ewallet                        50\n",
       "282  WALM097        Ewallet                        38\n",
       "285  WALM098        Ewallet                        44\n",
       "287  WALM099    Credit card                        83\n",
       "291  WALM100        Ewallet                        42\n",
       "\n",
       "[100 rows x 3 columns]"
      ]
     },
     "execution_count": 67,
     "metadata": {},
     "output_type": "execute_result"
    }
   ],
   "source": [
    "#Q7 Determine the most common payment method for each branch\n",
    "\n",
    "q7 = df_clean.groupby(['Branch','payment_method']).agg(\n",
    "    preferred_payment_method = ('invoice_id', 'count')\n",
    ").reset_index().sort_values(by=['Branch','preferred_payment_method'],ascending=True)\n",
    "\n",
    "q7=q7.loc[q7.groupby(['Branch'])['preferred_payment_method'].idxmax()]\n",
    "q7"
   ]
  },
  {
   "cell_type": "code",
   "execution_count": null,
   "metadata": {},
   "outputs": [
    {
     "data": {
      "application/vnd.microsoft.datawrangler.viewer.v0+json": {
       "columns": [
        {
         "name": "index",
         "rawType": "int64",
         "type": "integer"
        },
        {
         "name": "month",
         "rawType": "object",
         "type": "string"
        },
        {
         "name": "Ano",
         "rawType": "int64",
         "type": "integer"
        },
        {
         "name": "total",
         "rawType": "float64",
         "type": "float"
        }
       ],
       "conversionMethod": "pd.DataFrame",
       "ref": "678c2908-b4f3-4c30-b137-f7c117e275be",
       "rows": [
        [
         "0",
         "April",
         "2020",
         "7218.0"
        ],
        [
         "1",
         "April",
         "2021",
         "6378.0"
        ],
        [
         "2",
         "April",
         "2022",
         "5593.0"
        ],
        [
         "3",
         "April",
         "2023",
         "6079.0"
        ],
        [
         "4",
         "August",
         "2020",
         "16817.0"
        ],
        [
         "5",
         "August",
         "2021",
         "16683.0"
        ],
        [
         "6",
         "August",
         "2022",
         "16788.0"
        ],
        [
         "7",
         "August",
         "2023",
         "18606.0"
        ],
        [
         "8",
         "December",
         "2020",
         "60783.0"
        ],
        [
         "9",
         "December",
         "2021",
         "66930.0"
        ],
        [
         "10",
         "December",
         "2022",
         "58812.0"
        ],
        [
         "11",
         "December",
         "2023",
         "66092.0"
        ],
        [
         "12",
         "February",
         "2019",
         "92589.88"
        ],
        [
         "13",
         "February",
         "2020",
         "7035.0"
        ],
        [
         "14",
         "February",
         "2021",
         "8000.0"
        ],
        [
         "15",
         "February",
         "2022",
         "8476.0"
        ],
        [
         "16",
         "February",
         "2023",
         "6567.0"
        ],
        [
         "17",
         "January",
         "2019",
         "110754.16"
        ],
        [
         "18",
         "January",
         "2020",
         "6771.0"
        ],
        [
         "19",
         "January",
         "2021",
         "7568.0"
        ],
        [
         "20",
         "January",
         "2022",
         "5679.0"
        ],
        [
         "21",
         "January",
         "2023",
         "6709.0"
        ],
        [
         "22",
         "July",
         "2020",
         "6880.0"
        ],
        [
         "23",
         "July",
         "2021",
         "8367.0"
        ],
        [
         "24",
         "July",
         "2022",
         "6895.0"
        ],
        [
         "25",
         "July",
         "2023",
         "6938.0"
        ],
        [
         "26",
         "June",
         "2020",
         "5434.0"
        ],
        [
         "27",
         "June",
         "2021",
         "6395.0"
        ],
        [
         "28",
         "June",
         "2022",
         "6356.0"
        ],
        [
         "29",
         "June",
         "2023",
         "7460.0"
        ],
        [
         "30",
         "March",
         "2019",
         "104243.34"
        ],
        [
         "31",
         "March",
         "2020",
         "6188.0"
        ],
        [
         "32",
         "March",
         "2021",
         "7494.0"
        ],
        [
         "33",
         "March",
         "2022",
         "7108.0"
        ],
        [
         "34",
         "March",
         "2023",
         "6659.0"
        ],
        [
         "35",
         "May",
         "2020",
         "8548.0"
        ],
        [
         "36",
         "May",
         "2021",
         "7028.0"
        ],
        [
         "37",
         "May",
         "2022",
         "7789.0"
        ],
        [
         "38",
         "May",
         "2023",
         "7976.0"
        ],
        [
         "39",
         "November",
         "2020",
         "60146.0"
        ],
        [
         "40",
         "November",
         "2021",
         "59628.0"
        ],
        [
         "41",
         "November",
         "2022",
         "61687.0"
        ],
        [
         "42",
         "November",
         "2023",
         "63424.0"
        ],
        [
         "43",
         "October",
         "2020",
         "18258.0"
        ],
        [
         "44",
         "October",
         "2021",
         "20793.0"
        ],
        [
         "45",
         "October",
         "2022",
         "17414.0"
        ],
        [
         "46",
         "October",
         "2023",
         "18147.0"
        ],
        [
         "47",
         "September",
         "2020",
         "15345.0"
        ],
        [
         "48",
         "September",
         "2021",
         "17787.0"
        ],
        [
         "49",
         "September",
         "2022",
         "14808.0"
        ]
       ],
       "shape": {
        "columns": 3,
        "rows": 51
       }
      },
      "text/html": [
       "<div>\n",
       "<style scoped>\n",
       "    .dataframe tbody tr th:only-of-type {\n",
       "        vertical-align: middle;\n",
       "    }\n",
       "\n",
       "    .dataframe tbody tr th {\n",
       "        vertical-align: top;\n",
       "    }\n",
       "\n",
       "    .dataframe thead th {\n",
       "        text-align: right;\n",
       "    }\n",
       "</style>\n",
       "<table border=\"1\" class=\"dataframe\">\n",
       "  <thead>\n",
       "    <tr style=\"text-align: right;\">\n",
       "      <th></th>\n",
       "      <th>month</th>\n",
       "      <th>Ano</th>\n",
       "      <th>total</th>\n",
       "    </tr>\n",
       "  </thead>\n",
       "  <tbody>\n",
       "    <tr>\n",
       "      <th>0</th>\n",
       "      <td>April</td>\n",
       "      <td>2020</td>\n",
       "      <td>7218.00</td>\n",
       "    </tr>\n",
       "    <tr>\n",
       "      <th>1</th>\n",
       "      <td>April</td>\n",
       "      <td>2021</td>\n",
       "      <td>6378.00</td>\n",
       "    </tr>\n",
       "    <tr>\n",
       "      <th>2</th>\n",
       "      <td>April</td>\n",
       "      <td>2022</td>\n",
       "      <td>5593.00</td>\n",
       "    </tr>\n",
       "    <tr>\n",
       "      <th>3</th>\n",
       "      <td>April</td>\n",
       "      <td>2023</td>\n",
       "      <td>6079.00</td>\n",
       "    </tr>\n",
       "    <tr>\n",
       "      <th>4</th>\n",
       "      <td>August</td>\n",
       "      <td>2020</td>\n",
       "      <td>16817.00</td>\n",
       "    </tr>\n",
       "    <tr>\n",
       "      <th>5</th>\n",
       "      <td>August</td>\n",
       "      <td>2021</td>\n",
       "      <td>16683.00</td>\n",
       "    </tr>\n",
       "    <tr>\n",
       "      <th>6</th>\n",
       "      <td>August</td>\n",
       "      <td>2022</td>\n",
       "      <td>16788.00</td>\n",
       "    </tr>\n",
       "    <tr>\n",
       "      <th>7</th>\n",
       "      <td>August</td>\n",
       "      <td>2023</td>\n",
       "      <td>18606.00</td>\n",
       "    </tr>\n",
       "    <tr>\n",
       "      <th>8</th>\n",
       "      <td>December</td>\n",
       "      <td>2020</td>\n",
       "      <td>60783.00</td>\n",
       "    </tr>\n",
       "    <tr>\n",
       "      <th>9</th>\n",
       "      <td>December</td>\n",
       "      <td>2021</td>\n",
       "      <td>66930.00</td>\n",
       "    </tr>\n",
       "    <tr>\n",
       "      <th>10</th>\n",
       "      <td>December</td>\n",
       "      <td>2022</td>\n",
       "      <td>58812.00</td>\n",
       "    </tr>\n",
       "    <tr>\n",
       "      <th>11</th>\n",
       "      <td>December</td>\n",
       "      <td>2023</td>\n",
       "      <td>66092.00</td>\n",
       "    </tr>\n",
       "    <tr>\n",
       "      <th>12</th>\n",
       "      <td>February</td>\n",
       "      <td>2019</td>\n",
       "      <td>92589.88</td>\n",
       "    </tr>\n",
       "    <tr>\n",
       "      <th>13</th>\n",
       "      <td>February</td>\n",
       "      <td>2020</td>\n",
       "      <td>7035.00</td>\n",
       "    </tr>\n",
       "    <tr>\n",
       "      <th>14</th>\n",
       "      <td>February</td>\n",
       "      <td>2021</td>\n",
       "      <td>8000.00</td>\n",
       "    </tr>\n",
       "    <tr>\n",
       "      <th>15</th>\n",
       "      <td>February</td>\n",
       "      <td>2022</td>\n",
       "      <td>8476.00</td>\n",
       "    </tr>\n",
       "    <tr>\n",
       "      <th>16</th>\n",
       "      <td>February</td>\n",
       "      <td>2023</td>\n",
       "      <td>6567.00</td>\n",
       "    </tr>\n",
       "    <tr>\n",
       "      <th>17</th>\n",
       "      <td>January</td>\n",
       "      <td>2019</td>\n",
       "      <td>110754.16</td>\n",
       "    </tr>\n",
       "    <tr>\n",
       "      <th>18</th>\n",
       "      <td>January</td>\n",
       "      <td>2020</td>\n",
       "      <td>6771.00</td>\n",
       "    </tr>\n",
       "    <tr>\n",
       "      <th>19</th>\n",
       "      <td>January</td>\n",
       "      <td>2021</td>\n",
       "      <td>7568.00</td>\n",
       "    </tr>\n",
       "    <tr>\n",
       "      <th>20</th>\n",
       "      <td>January</td>\n",
       "      <td>2022</td>\n",
       "      <td>5679.00</td>\n",
       "    </tr>\n",
       "    <tr>\n",
       "      <th>21</th>\n",
       "      <td>January</td>\n",
       "      <td>2023</td>\n",
       "      <td>6709.00</td>\n",
       "    </tr>\n",
       "    <tr>\n",
       "      <th>22</th>\n",
       "      <td>July</td>\n",
       "      <td>2020</td>\n",
       "      <td>6880.00</td>\n",
       "    </tr>\n",
       "    <tr>\n",
       "      <th>23</th>\n",
       "      <td>July</td>\n",
       "      <td>2021</td>\n",
       "      <td>8367.00</td>\n",
       "    </tr>\n",
       "    <tr>\n",
       "      <th>24</th>\n",
       "      <td>July</td>\n",
       "      <td>2022</td>\n",
       "      <td>6895.00</td>\n",
       "    </tr>\n",
       "    <tr>\n",
       "      <th>25</th>\n",
       "      <td>July</td>\n",
       "      <td>2023</td>\n",
       "      <td>6938.00</td>\n",
       "    </tr>\n",
       "    <tr>\n",
       "      <th>26</th>\n",
       "      <td>June</td>\n",
       "      <td>2020</td>\n",
       "      <td>5434.00</td>\n",
       "    </tr>\n",
       "    <tr>\n",
       "      <th>27</th>\n",
       "      <td>June</td>\n",
       "      <td>2021</td>\n",
       "      <td>6395.00</td>\n",
       "    </tr>\n",
       "    <tr>\n",
       "      <th>28</th>\n",
       "      <td>June</td>\n",
       "      <td>2022</td>\n",
       "      <td>6356.00</td>\n",
       "    </tr>\n",
       "    <tr>\n",
       "      <th>29</th>\n",
       "      <td>June</td>\n",
       "      <td>2023</td>\n",
       "      <td>7460.00</td>\n",
       "    </tr>\n",
       "    <tr>\n",
       "      <th>30</th>\n",
       "      <td>March</td>\n",
       "      <td>2019</td>\n",
       "      <td>104243.34</td>\n",
       "    </tr>\n",
       "    <tr>\n",
       "      <th>31</th>\n",
       "      <td>March</td>\n",
       "      <td>2020</td>\n",
       "      <td>6188.00</td>\n",
       "    </tr>\n",
       "    <tr>\n",
       "      <th>32</th>\n",
       "      <td>March</td>\n",
       "      <td>2021</td>\n",
       "      <td>7494.00</td>\n",
       "    </tr>\n",
       "    <tr>\n",
       "      <th>33</th>\n",
       "      <td>March</td>\n",
       "      <td>2022</td>\n",
       "      <td>7108.00</td>\n",
       "    </tr>\n",
       "    <tr>\n",
       "      <th>34</th>\n",
       "      <td>March</td>\n",
       "      <td>2023</td>\n",
       "      <td>6659.00</td>\n",
       "    </tr>\n",
       "    <tr>\n",
       "      <th>35</th>\n",
       "      <td>May</td>\n",
       "      <td>2020</td>\n",
       "      <td>8548.00</td>\n",
       "    </tr>\n",
       "    <tr>\n",
       "      <th>36</th>\n",
       "      <td>May</td>\n",
       "      <td>2021</td>\n",
       "      <td>7028.00</td>\n",
       "    </tr>\n",
       "    <tr>\n",
       "      <th>37</th>\n",
       "      <td>May</td>\n",
       "      <td>2022</td>\n",
       "      <td>7789.00</td>\n",
       "    </tr>\n",
       "    <tr>\n",
       "      <th>38</th>\n",
       "      <td>May</td>\n",
       "      <td>2023</td>\n",
       "      <td>7976.00</td>\n",
       "    </tr>\n",
       "    <tr>\n",
       "      <th>39</th>\n",
       "      <td>November</td>\n",
       "      <td>2020</td>\n",
       "      <td>60146.00</td>\n",
       "    </tr>\n",
       "    <tr>\n",
       "      <th>40</th>\n",
       "      <td>November</td>\n",
       "      <td>2021</td>\n",
       "      <td>59628.00</td>\n",
       "    </tr>\n",
       "    <tr>\n",
       "      <th>41</th>\n",
       "      <td>November</td>\n",
       "      <td>2022</td>\n",
       "      <td>61687.00</td>\n",
       "    </tr>\n",
       "    <tr>\n",
       "      <th>42</th>\n",
       "      <td>November</td>\n",
       "      <td>2023</td>\n",
       "      <td>63424.00</td>\n",
       "    </tr>\n",
       "    <tr>\n",
       "      <th>43</th>\n",
       "      <td>October</td>\n",
       "      <td>2020</td>\n",
       "      <td>18258.00</td>\n",
       "    </tr>\n",
       "    <tr>\n",
       "      <th>44</th>\n",
       "      <td>October</td>\n",
       "      <td>2021</td>\n",
       "      <td>20793.00</td>\n",
       "    </tr>\n",
       "    <tr>\n",
       "      <th>45</th>\n",
       "      <td>October</td>\n",
       "      <td>2022</td>\n",
       "      <td>17414.00</td>\n",
       "    </tr>\n",
       "    <tr>\n",
       "      <th>46</th>\n",
       "      <td>October</td>\n",
       "      <td>2023</td>\n",
       "      <td>18147.00</td>\n",
       "    </tr>\n",
       "    <tr>\n",
       "      <th>47</th>\n",
       "      <td>September</td>\n",
       "      <td>2020</td>\n",
       "      <td>15345.00</td>\n",
       "    </tr>\n",
       "    <tr>\n",
       "      <th>48</th>\n",
       "      <td>September</td>\n",
       "      <td>2021</td>\n",
       "      <td>17787.00</td>\n",
       "    </tr>\n",
       "    <tr>\n",
       "      <th>49</th>\n",
       "      <td>September</td>\n",
       "      <td>2022</td>\n",
       "      <td>14808.00</td>\n",
       "    </tr>\n",
       "    <tr>\n",
       "      <th>50</th>\n",
       "      <td>September</td>\n",
       "      <td>2023</td>\n",
       "      <td>17603.00</td>\n",
       "    </tr>\n",
       "  </tbody>\n",
       "</table>\n",
       "</div>"
      ],
      "text/plain": [
       "        month   Ano      total\n",
       "0       April  2020    7218.00\n",
       "1       April  2021    6378.00\n",
       "2       April  2022    5593.00\n",
       "3       April  2023    6079.00\n",
       "4      August  2020   16817.00\n",
       "5      August  2021   16683.00\n",
       "6      August  2022   16788.00\n",
       "7      August  2023   18606.00\n",
       "8    December  2020   60783.00\n",
       "9    December  2021   66930.00\n",
       "10   December  2022   58812.00\n",
       "11   December  2023   66092.00\n",
       "12   February  2019   92589.88\n",
       "13   February  2020    7035.00\n",
       "14   February  2021    8000.00\n",
       "15   February  2022    8476.00\n",
       "16   February  2023    6567.00\n",
       "17    January  2019  110754.16\n",
       "18    January  2020    6771.00\n",
       "19    January  2021    7568.00\n",
       "20    January  2022    5679.00\n",
       "21    January  2023    6709.00\n",
       "22       July  2020    6880.00\n",
       "23       July  2021    8367.00\n",
       "24       July  2022    6895.00\n",
       "25       July  2023    6938.00\n",
       "26       June  2020    5434.00\n",
       "27       June  2021    6395.00\n",
       "28       June  2022    6356.00\n",
       "29       June  2023    7460.00\n",
       "30      March  2019  104243.34\n",
       "31      March  2020    6188.00\n",
       "32      March  2021    7494.00\n",
       "33      March  2022    7108.00\n",
       "34      March  2023    6659.00\n",
       "35        May  2020    8548.00\n",
       "36        May  2021    7028.00\n",
       "37        May  2022    7789.00\n",
       "38        May  2023    7976.00\n",
       "39   November  2020   60146.00\n",
       "40   November  2021   59628.00\n",
       "41   November  2022   61687.00\n",
       "42   November  2023   63424.00\n",
       "43    October  2020   18258.00\n",
       "44    October  2021   20793.00\n",
       "45    October  2022   17414.00\n",
       "46    October  2023   18147.00\n",
       "47  September  2020   15345.00\n",
       "48  September  2021   17787.00\n",
       "49  September  2022   14808.00\n",
       "50  September  2023   17603.00"
      ]
     },
     "execution_count": 42,
     "metadata": {},
     "output_type": "execute_result"
    }
   ],
   "source": [
    "#Dataframe - Agrupamento do total de vendas por mes e ano\n",
    "\n",
    "df_clean['month'] = df_clean['date'].dt.month_name()\n",
    "\n",
    "q7b = df_clean.groupby(['month', 'Ano']).agg(\n",
    "    total =  ('total', 'sum')).reset_index()\n",
    "q7b\n",
    "\n"
   ]
  },
  {
   "cell_type": "code",
   "execution_count": 49,
   "metadata": {},
   "outputs": [
    {
     "data": {
      "image/png": "[encoded data removed]",
      "text/plain": [
       "<Figure size 1200x600 with 1 Axes>"
      ]
     },
     "metadata": {},
     "output_type": "display_data"
    }
   ],
   "source": [
    "#  Teste\n",
    "import pandas as pd\n",
    "import matplotlib.pyplot as plt\n",
    "import seaborn as sns\n",
    "\n",
    "\n",
    "# Criando um DataFrame com todos os meses para todos os anos presentes no dataset\n",
    "# all_months = pd.MultiIndex.from_product([df[\"month\"].unique(), df[\"year\"].unique()], names=[\"month\", \"year\"])\n",
    "#year_monthly_sales = df.groupby([\"month\", \"year\"]).agg(total = ('total', 'sum')).reset_index()\n",
    "\n",
    "# Criando o gráfico\n",
    "plt.figure(figsize=(12, 6))\n",
    "sns.barplot(x=\"month\", y=\"total\", hue=\"Ano\", data=q7b, alpha=0.8, dodge=True)\n",
    "\n",
    "# Configurações do gráfico\n",
    "plt.xlabel(\"Mês\", fontsize=12)\n",
    "plt.ylabel(\"Receita Mensal (unit_price * quantity)\", fontsize=12)\n",
    "plt.title(\"Total de Vendas por Mês ao Longo dos Anos\", fontsize=14)\n",
    "#plt.xticks(ticks=range(0, 12), labels=[\"Jan\", \"Fev\", \"Mar\", \"Abr\", \"Mai\", \"Jun\", \"Jul\", \"Ago\", \"Set\", \"Out\", \"Nov\", \"Dez\"])\n",
    "plt.grid(axis=\"y\", linestyle=\"--\", alpha=0.7)\n",
    "plt.legend(title=\"Ano\")\n",
    "\n",
    "# Exibir gráfico\n",
    "plt.show()"
   ]
  },
  {
   "cell_type": "markdown",
   "metadata": {},
   "source": [
    "#### Question 8"
   ]
  },
  {
   "cell_type": "code",
   "execution_count": 69,
   "metadata": {},
   "outputs": [],
   "source": [
    "#Q8\n",
    "#a) Categorize sales into 3 group Morning, Afternoon, Evening\n",
    "#b) Find out which of the shift and number of invoices\n",
    "\n",
    "df_clean[\"time\"] = pd.to_datetime(df_clean[\"time\"], format=\"%H:%M:%S\").dt.time\n",
    "\n",
    "#Fuction of categorize sales into M/A/E\n",
    "\n",
    "def categorize_time(time):\n",
    "    if time >= pd.to_datetime(\"06:00:00\", format=\"%H:%M:%S\").time() and time < pd.to_datetime(\"12:00:00\", format=\"%H:%M:%S\").time():\n",
    "        return \"Morning\"\n",
    "    elif time >= pd.to_datetime(\"12:00:00\", format=\"%H:%M:%S\").time() and time < pd.to_datetime(\"17:00:00\", format=\"%H:%M:%S\").time():\n",
    "        return \"Afternoon\"\n",
    "    else:\n",
    "        return \"Evening\"\n",
    "\n",
    "# Create a new column in dataset using the fuction categorize_time\n",
    "df_clean[\"period_of_day\"] = df_clean[\"time\"].apply(categorize_time)\n"
   ]
  },
  {
   "cell_type": "code",
   "execution_count": 70,
   "metadata": {},
   "outputs": [
    {
     "data": {
      "application/vnd.microsoft.datawrangler.viewer.v0+json": {
       "columns": [
        {
         "name": "index",
         "rawType": "int64",
         "type": "integer"
        },
        {
         "name": "Branch",
         "rawType": "object",
         "type": "string"
        },
        {
         "name": "period_of_day",
         "rawType": "object",
         "type": "string"
        },
        {
         "name": "total_sales",
         "rawType": "int64",
         "type": "integer"
        }
       ],
       "conversionMethod": "pd.DataFrame",
       "ref": "3291a8eb-2f82-48b9-9b34-68b2c0569450",
       "rows": [
        [
         "1",
         "WALM001",
         "Evening",
         "39"
        ],
        [
         "0",
         "WALM001",
         "Afternoon",
         "27"
        ],
        [
         "2",
         "WALM001",
         "Morning",
         "8"
        ],
        [
         "4",
         "WALM002",
         "Evening",
         "27"
        ],
        [
         "3",
         "WALM002",
         "Afternoon",
         "23"
        ],
        [
         "5",
         "WALM002",
         "Morning",
         "15"
        ],
        [
         "6",
         "WALM003",
         "Afternoon",
         "71"
        ],
        [
         "7",
         "WALM003",
         "Evening",
         "65"
        ],
        [
         "8",
         "WALM003",
         "Morning",
         "50"
        ],
        [
         "10",
         "WALM004",
         "Evening",
         "26"
        ],
        [
         "9",
         "WALM004",
         "Afternoon",
         "25"
        ],
        [
         "11",
         "WALM004",
         "Morning",
         "9"
        ],
        [
         "13",
         "WALM005",
         "Evening",
         "49"
        ],
        [
         "12",
         "WALM005",
         "Afternoon",
         "20"
        ],
        [
         "14",
         "WALM005",
         "Morning",
         "15"
        ],
        [
         "16",
         "WALM006",
         "Evening",
         "38"
        ],
        [
         "15",
         "WALM006",
         "Afternoon",
         "26"
        ],
        [
         "17",
         "WALM006",
         "Morning",
         "7"
        ],
        [
         "19",
         "WALM007",
         "Evening",
         "40"
        ],
        [
         "18",
         "WALM007",
         "Afternoon",
         "20"
        ],
        [
         "20",
         "WALM007",
         "Morning",
         "10"
        ],
        [
         "22",
         "WALM008",
         "Evening",
         "36"
        ],
        [
         "21",
         "WALM008",
         "Afternoon",
         "23"
        ],
        [
         "23",
         "WALM008",
         "Morning",
         "9"
        ],
        [
         "25",
         "WALM009",
         "Evening",
         "103"
        ],
        [
         "24",
         "WALM009",
         "Afternoon",
         "83"
        ],
        [
         "26",
         "WALM009",
         "Morning",
         "49"
        ],
        [
         "28",
         "WALM010",
         "Evening",
         "33"
        ],
        [
         "27",
         "WALM010",
         "Afternoon",
         "26"
        ],
        [
         "29",
         "WALM010",
         "Morning",
         "7"
        ],
        [
         "30",
         "WALM011",
         "Afternoon",
         "30"
        ],
        [
         "31",
         "WALM011",
         "Evening",
         "29"
        ],
        [
         "32",
         "WALM011",
         "Morning",
         "9"
        ],
        [
         "34",
         "WALM012",
         "Evening",
         "43"
        ],
        [
         "33",
         "WALM012",
         "Afternoon",
         "26"
        ],
        [
         "35",
         "WALM012",
         "Morning",
         "11"
        ],
        [
         "37",
         "WALM013",
         "Evening",
         "23"
        ],
        [
         "36",
         "WALM013",
         "Afternoon",
         "21"
        ],
        [
         "38",
         "WALM013",
         "Morning",
         "13"
        ],
        [
         "40",
         "WALM014",
         "Evening",
         "29"
        ],
        [
         "39",
         "WALM014",
         "Afternoon",
         "14"
        ],
        [
         "41",
         "WALM014",
         "Morning",
         "9"
        ],
        [
         "43",
         "WALM015",
         "Evening",
         "41"
        ],
        [
         "42",
         "WALM015",
         "Afternoon",
         "24"
        ],
        [
         "44",
         "WALM015",
         "Morning",
         "22"
        ],
        [
         "46",
         "WALM016",
         "Evening",
         "33"
        ],
        [
         "45",
         "WALM016",
         "Afternoon",
         "30"
        ],
        [
         "47",
         "WALM016",
         "Morning",
         "7"
        ],
        [
         "49",
         "WALM017",
         "Evening",
         "37"
        ],
        [
         "48",
         "WALM017",
         "Afternoon",
         "25"
        ]
       ],
       "shape": {
        "columns": 3,
        "rows": 300
       }
      },
      "text/html": [
       "<div>\n",
       "<style scoped>\n",
       "    .dataframe tbody tr th:only-of-type {\n",
       "        vertical-align: middle;\n",
       "    }\n",
       "\n",
       "    .dataframe tbody tr th {\n",
       "        vertical-align: top;\n",
       "    }\n",
       "\n",
       "    .dataframe thead th {\n",
       "        text-align: right;\n",
       "    }\n",
       "</style>\n",
       "<table border=\"1\" class=\"dataframe\">\n",
       "  <thead>\n",
       "    <tr style=\"text-align: right;\">\n",
       "      <th></th>\n",
       "      <th>Branch</th>\n",
       "      <th>period_of_day</th>\n",
       "      <th>total_sales</th>\n",
       "    </tr>\n",
       "  </thead>\n",
       "  <tbody>\n",
       "    <tr>\n",
       "      <th>1</th>\n",
       "      <td>WALM001</td>\n",
       "      <td>Evening</td>\n",
       "      <td>39</td>\n",
       "    </tr>\n",
       "    <tr>\n",
       "      <th>0</th>\n",
       "      <td>WALM001</td>\n",
       "      <td>Afternoon</td>\n",
       "      <td>27</td>\n",
       "    </tr>\n",
       "    <tr>\n",
       "      <th>2</th>\n",
       "      <td>WALM001</td>\n",
       "      <td>Morning</td>\n",
       "      <td>8</td>\n",
       "    </tr>\n",
       "    <tr>\n",
       "      <th>4</th>\n",
       "      <td>WALM002</td>\n",
       "      <td>Evening</td>\n",
       "      <td>27</td>\n",
       "    </tr>\n",
       "    <tr>\n",
       "      <th>3</th>\n",
       "      <td>WALM002</td>\n",
       "      <td>Afternoon</td>\n",
       "      <td>23</td>\n",
       "    </tr>\n",
       "    <tr>\n",
       "      <th>...</th>\n",
       "      <td>...</td>\n",
       "      <td>...</td>\n",
       "      <td>...</td>\n",
       "    </tr>\n",
       "    <tr>\n",
       "      <th>295</th>\n",
       "      <td>WALM099</td>\n",
       "      <td>Evening</td>\n",
       "      <td>42</td>\n",
       "    </tr>\n",
       "    <tr>\n",
       "      <th>296</th>\n",
       "      <td>WALM099</td>\n",
       "      <td>Morning</td>\n",
       "      <td>40</td>\n",
       "    </tr>\n",
       "    <tr>\n",
       "      <th>298</th>\n",
       "      <td>WALM100</td>\n",
       "      <td>Evening</td>\n",
       "      <td>27</td>\n",
       "    </tr>\n",
       "    <tr>\n",
       "      <th>299</th>\n",
       "      <td>WALM100</td>\n",
       "      <td>Morning</td>\n",
       "      <td>19</td>\n",
       "    </tr>\n",
       "    <tr>\n",
       "      <th>297</th>\n",
       "      <td>WALM100</td>\n",
       "      <td>Afternoon</td>\n",
       "      <td>16</td>\n",
       "    </tr>\n",
       "  </tbody>\n",
       "</table>\n",
       "<p>300 rows × 3 columns</p>\n",
       "</div>"
      ],
      "text/plain": [
       "      Branch period_of_day  total_sales\n",
       "1    WALM001       Evening           39\n",
       "0    WALM001     Afternoon           27\n",
       "2    WALM001       Morning            8\n",
       "4    WALM002       Evening           27\n",
       "3    WALM002     Afternoon           23\n",
       "..       ...           ...          ...\n",
       "295  WALM099       Evening           42\n",
       "296  WALM099       Morning           40\n",
       "298  WALM100       Evening           27\n",
       "299  WALM100       Morning           19\n",
       "297  WALM100     Afternoon           16\n",
       "\n",
       "[300 rows x 3 columns]"
      ]
     },
     "execution_count": 70,
     "metadata": {},
     "output_type": "execute_result"
    }
   ],
   "source": [
    "#Q8_b - Total sales per group (Morning, Afternoon, Evening)\n",
    "q8_E = df_clean.groupby(['Branch','period_of_day']).agg(\n",
    "    total_sales = ('invoice_id', 'count')\n",
    ").reset_index().sort_values(by=['Branch','total_sales'], ascending=[True,False])\n",
    "q8_E"
   ]
  },
  {
   "cell_type": "markdown",
   "metadata": {},
   "source": [
    "#### Question 9"
   ]
  },
  {
   "cell_type": "code",
   "execution_count": 4,
   "metadata": {},
   "outputs": [
    {
     "name": "stderr",
     "output_type": "stream",
     "text": [
      "C:\\Users\\Thomas Barbosa\\AppData\\Local\\Temp\\ipykernel_27592\\3312688651.py:1: UserWarning: Could not infer format, so each element will be parsed individually, falling back to `dateutil`. To ensure parsing is consistent and as-expected, please specify a format.\n",
      "  df_clean[\"Ano\"] = pd.to_datetime(df_clean[\"date\"]).dt.year\n"
     ]
    },
    {
     "data": {
      "application/vnd.microsoft.datawrangler.viewer.v0+json": {
       "columns": [
        {
         "name": "index",
         "rawType": "int64",
         "type": "integer"
        },
        {
         "name": "Branch",
         "rawType": "object",
         "type": "string"
        },
        {
         "name": "Ano_2022",
         "rawType": "int32",
         "type": "integer"
        },
        {
         "name": "revenue_2022",
         "rawType": "float64",
         "type": "float"
        },
        {
         "name": "Ano_2023",
         "rawType": "int32",
         "type": "integer"
        },
        {
         "name": "revenue_2023",
         "rawType": "float64",
         "type": "float"
        },
        {
         "name": "rev_ratio",
         "rawType": "float64",
         "type": "float"
        }
       ],
       "conversionMethod": "pd.DataFrame",
       "ref": "7388c35b-f2ad-46b8-883d-47aba1f72dce",
       "rows": [
        [
         "0",
         "WALM045",
         "2022",
         "1731.0",
         "2023",
         "647.0",
         "62.62"
        ],
        [
         "1",
         "WALM047",
         "2022",
         "2581.0",
         "2023",
         "1069.0",
         "58.58"
        ],
        [
         "2",
         "WALM098",
         "2022",
         "2446.0",
         "2023",
         "1030.0",
         "57.89"
        ],
        [
         "3",
         "WALM033",
         "2022",
         "2099.0",
         "2023",
         "931.0",
         "55.65"
        ],
        [
         "4",
         "WALM081",
         "2022",
         "1723.0",
         "2023",
         "850.0",
         "50.67"
        ]
       ],
       "shape": {
        "columns": 6,
        "rows": 5
       }
      },
      "text/html": [
       "<div>\n",
       "<style scoped>\n",
       "    .dataframe tbody tr th:only-of-type {\n",
       "        vertical-align: middle;\n",
       "    }\n",
       "\n",
       "    .dataframe tbody tr th {\n",
       "        vertical-align: top;\n",
       "    }\n",
       "\n",
       "    .dataframe thead th {\n",
       "        text-align: right;\n",
       "    }\n",
       "</style>\n",
       "<table border=\"1\" class=\"dataframe\">\n",
       "  <thead>\n",
       "    <tr style=\"text-align: right;\">\n",
       "      <th></th>\n",
       "      <th>Branch</th>\n",
       "      <th>Ano_2022</th>\n",
       "      <th>revenue_2022</th>\n",
       "      <th>Ano_2023</th>\n",
       "      <th>revenue_2023</th>\n",
       "      <th>rev_ratio</th>\n",
       "    </tr>\n",
       "  </thead>\n",
       "  <tbody>\n",
       "    <tr>\n",
       "      <th>0</th>\n",
       "      <td>WALM045</td>\n",
       "      <td>2022</td>\n",
       "      <td>1731.0</td>\n",
       "      <td>2023</td>\n",
       "      <td>647.0</td>\n",
       "      <td>62.62</td>\n",
       "    </tr>\n",
       "    <tr>\n",
       "      <th>1</th>\n",
       "      <td>WALM047</td>\n",
       "      <td>2022</td>\n",
       "      <td>2581.0</td>\n",
       "      <td>2023</td>\n",
       "      <td>1069.0</td>\n",
       "      <td>58.58</td>\n",
       "    </tr>\n",
       "    <tr>\n",
       "      <th>2</th>\n",
       "      <td>WALM098</td>\n",
       "      <td>2022</td>\n",
       "      <td>2446.0</td>\n",
       "      <td>2023</td>\n",
       "      <td>1030.0</td>\n",
       "      <td>57.89</td>\n",
       "    </tr>\n",
       "    <tr>\n",
       "      <th>3</th>\n",
       "      <td>WALM033</td>\n",
       "      <td>2022</td>\n",
       "      <td>2099.0</td>\n",
       "      <td>2023</td>\n",
       "      <td>931.0</td>\n",
       "      <td>55.65</td>\n",
       "    </tr>\n",
       "    <tr>\n",
       "      <th>4</th>\n",
       "      <td>WALM081</td>\n",
       "      <td>2022</td>\n",
       "      <td>1723.0</td>\n",
       "      <td>2023</td>\n",
       "      <td>850.0</td>\n",
       "      <td>50.67</td>\n",
       "    </tr>\n",
       "  </tbody>\n",
       "</table>\n",
       "</div>"
      ],
      "text/plain": [
       "    Branch  Ano_2022  revenue_2022  Ano_2023  revenue_2023  rev_ratio\n",
       "0  WALM045      2022        1731.0      2023         647.0      62.62\n",
       "1  WALM047      2022        2581.0      2023        1069.0      58.58\n",
       "2  WALM098      2022        2446.0      2023        1030.0      57.89\n",
       "3  WALM033      2022        2099.0      2023         931.0      55.65\n",
       "4  WALM081      2022        1723.0      2023         850.0      50.67"
      ]
     },
     "execution_count": 4,
     "metadata": {},
     "output_type": "execute_result"
    }
   ],
   "source": [
    "df_clean[\"Ano\"] = pd.to_datetime(df_clean[\"date\"]).dt.year\n",
    "df_clean\n",
    "\n",
    "q9a = df_clean.groupby(['Branch','Ano']).agg(\n",
    "    revenue = ('total','sum')\n",
    ").reset_index()\n",
    "q9a\n",
    "\n",
    "#2022\n",
    "q9a_2022 = q9a[q9a['Ano']==2022]\n",
    "q9a_2022\n",
    "\n",
    "#2023\n",
    "q9a_2023 = q9a[q9a['Ano']==2023]\n",
    "q9a_2023\n",
    "\n",
    "q9a_merge = pd.merge(q9a_2022,q9a_2023,on='Branch',suffixes=['_2022','_2023'])\n",
    "\n",
    "q9a_merge['rev_ratio'] = round(abs((q9a_merge['revenue_2023']-q9a_merge['revenue_2022'])/(q9a_merge['revenue_2022'])*100),2)\n",
    "\n",
    "#Filtro do top 5 decaimento de receita\n",
    "q9a_filter = q9a_merge[q9a_merge['revenue_2022'] > q9a_merge['revenue_2023']]\n",
    "q9a_filter.sort_values('rev_ratio', ascending= False).head(5).reset_index(drop=True)\n",
    "\n"
   ]
  },
  {
   "cell_type": "code",
   "execution_count": null,
   "metadata": {},
   "outputs": [],
   "source": []
  },
  {
   "cell_type": "markdown",
   "metadata": {},
   "source": [
    "### Step 4 - DataSet Insights"
   ]
  },
  {
   "cell_type": "markdown",
   "metadata": {},
   "source": [
    "#### Salve Dataset"
   ]
  },
  {
   "cell_type": "code",
   "execution_count": 78,
   "metadata": {},
   "outputs": [
    {
     "data": {
      "text/plain": [
       "(9969, 13)"
      ]
     },
     "execution_count": 78,
     "metadata": {},
     "output_type": "execute_result"
    }
   ],
   "source": [
    "### Carregando o dataframe salvo no Step 1\n",
    "df_insig = pd.read_csv('Walmart_Cleanned_Data.csv')\n",
    "df_insig.head()\n",
    "df_insig.shape"
   ]
  },
  {
   "cell_type": "code",
   "execution_count": 80,
   "metadata": {},
   "outputs": [],
   "source": [
    "### Criando a coluna de turno da venda\n",
    "\n",
    "df_insig[\"time\"] = pd.to_datetime(df_insig[\"time\"], format=\"%H:%M:%S\").dt.time\n",
    "\n",
    "#Fuction of categorize sales into M/A/E\n",
    "\n",
    "def categorize_time(time):\n",
    "    if time >= pd.to_datetime(\"06:00:00\", format=\"%H:%M:%S\").time() and time < pd.to_datetime(\"12:00:00\", format=\"%H:%M:%S\").time():\n",
    "        return \"Morning\"\n",
    "    elif time >= pd.to_datetime(\"12:00:00\", format=\"%H:%M:%S\").time() and time < pd.to_datetime(\"17:00:00\", format=\"%H:%M:%S\").time():\n",
    "        return \"Afternoon\"\n",
    "    else:\n",
    "        return \"Evening\"\n",
    "\n",
    "# Create a new column in dataset using the fuction categorize_time\n",
    "df_insig[\"period_of_day\"] = df_insig[\"time\"].apply(categorize_time)"
   ]
  },
  {
   "cell_type": "markdown",
   "metadata": {},
   "source": []
  },
  {
   "cell_type": "code",
   "execution_count": 81,
   "metadata": {},
   "outputs": [],
   "source": [
    "df_insig.to_csv(\"Walmart_Insights_Data.csv\",index=False)"
   ]
  }
 ],
 "metadata": {
  "kernelspec": {
   "display_name": "my_env1",
   "language": "python",
   "name": "python3"
  },
  "language_info": {
   "codemirror_mode": {
    "name": "ipython",
    "version": 3
   },
   "file_extension": ".py",
   "mimetype": "text/x-python",
   "name": "python",
   "nbconvert_exporter": "python",
   "pygments_lexer": "ipython3",
   "version": "3.11.4"
  }
 },
 "nbformat": 4,
 "nbformat_minor": 2
}
